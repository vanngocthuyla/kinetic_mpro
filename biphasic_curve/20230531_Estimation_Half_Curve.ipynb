{
  "cells": [
    {
      "cell_type": "markdown",
      "metadata": {
        "id": "ColIN1gJlTRL"
      },
      "source": [
        "# Dependencies"
      ]
    },
    {
      "cell_type": "code",
      "execution_count": 1,
      "metadata": {
        "id": "Y4t9KpzclZiJ"
      },
      "outputs": [],
      "source": [
        "import numpy as np\n",
        "import os\n",
        "\n",
        "%matplotlib inline\n",
        "import matplotlib.pyplot as plt"
      ]
    },
    {
      "cell_type": "code",
      "execution_count": 2,
      "metadata": {
        "id": "5dGFVNHoeGGH"
      },
      "outputs": [],
      "source": [
        "import scipy\n",
        "from scipy.optimize import minimize, curve_fit\n",
        "\n",
        "import pandas as pd"
      ]
    },
    {
      "cell_type": "markdown",
      "metadata": {
        "id": "nbXR2sG3gzyo"
      },
      "source": [
        "# Functions"
      ]
    },
    {
      "cell_type": "markdown",
      "source": [
        "## CRC"
      ],
      "metadata": {
        "id": "ZiY1aprnn2f6"
      }
    },
    {
      "cell_type": "code",
      "source": [
        "def f_curve_vec(x, R_b, R_t, x_50, H):\n",
        "    \"\"\"\n",
        "    Dose-response curve function\n",
        "    \n",
        "    Parameters:\n",
        "    ----------\n",
        "    x   : array\n",
        "          log_10 of concentration of inhibitor\n",
        "    R_b : float\n",
        "          bottom response\n",
        "    R_t : float\n",
        "          top response\n",
        "    x_50: float\n",
        "          logIC50\n",
        "    H   : float\n",
        "          hill slope\n",
        "    ----------\n",
        "    return an array of response\n",
        "    \"\"\"\n",
        "    return R_b+(R_t-R_b)/(1+10**(x*H-x_50*H))\n",
        "\n",
        "\n",
        "def parameter_estimation(data, init_theta=None): \n",
        "    \"\"\"\n",
        "    Fitting non-linear regression for dose-response curve\n",
        "    Parameters:\n",
        "    ----------\n",
        "    data      : list of two element: x, y\n",
        "                x is vector of concentration\n",
        "                y is vector of responsex and y must be same length\n",
        "    theta     : vector of 4 parameters (bottom response, top response, logIC50, hill slope)\n",
        "    ----------\n",
        "    return [theta, ASE, variance]\n",
        "    \"\"\"\n",
        "\n",
        "    # Initial value and boundary for theta\n",
        "    min_y = min(data['y'])\n",
        "    max_y = max(data['y'])\n",
        "    range_y = max_y - min_y\n",
        "\n",
        "    if init_theta is None:\n",
        "        init_theta = [min_y, max_y, data['x'][np.argmin(np.square(data['y']-np.mean(data['y'])))], 1.0]\n",
        "        upper = [min_y + 0.25*range_y, max_y + 0.25*range_y, 20, 20]\n",
        "        lower = [min_y - 0.25*range_y, max_y - 0.25*range_y, -20, -20]\n",
        "    else:\n",
        "        upper = [theta[0] + 0.25*range_y, theta[1] + 0.25*range_y, 20, 20]\n",
        "        lower = [theta[0] - 0.25*range_y, theta[1] - 0.25*range_y, -20, -20]\n",
        "\n",
        "    fit_f, var_matrix = curve_fit(f_curve_vec, xdata=np.array(data['x']), ydata=np.array(data['y']),\n",
        "                                  absolute_sigma=True, p0=init_theta,\n",
        "                                  bounds=(lower, upper))\n",
        "    \n",
        "    # Estimate ASE for theta\n",
        "    y_hat = f_curve_vec(data['x'], *fit_f)\n",
        "    sigma = np.sqrt(np.sum((y_hat - data['y'])**2)/(len(y_hat)-4))\n",
        "    ASE = np.sqrt(np.diag(var_matrix))*sigma #unscale_SE*sigma\n",
        "\n",
        "    mle = [fit_f, ASE, sigma**2]\n",
        "\n",
        "    return mle\n",
        "\n",
        "\n",
        "def scaling_data(y, bottom, top):\n",
        "    \"\"\"\n",
        "    This function is used to normalize data by mean of top and bottom control\n",
        "    \n",
        "    Parameters:\n",
        "    ----------\n",
        "    y     : vector of response\n",
        "    bottom: mean of vector of control on the bottom\n",
        "    top   : mean of vector of control on the top\n",
        "    ----------\n",
        "\n",
        "    return vector of normalized response \n",
        "    \"\"\"\n",
        "    min_y = min(bottom, top)\n",
        "    max_y = max(bottom, top)\n",
        "    return (y-min_y)/abs(max_y - min_y)*100"
      ],
      "metadata": {
        "id": "cjAkicJWnqYQ"
      },
      "execution_count": 3,
      "outputs": []
    },
    {
      "cell_type": "markdown",
      "source": [
        "## Downward curve"
      ],
      "metadata": {
        "id": "ZCOzZPXzLMLF"
      }
    },
    {
      "cell_type": "code",
      "source": [
        "def plot_curve(data, theta=None, ASE=None, ax=None, line_color='b', line_style = '-', \n",
        "               label_curve='Fitting', title_name=None, \n",
        "               xlabel='$Log_{10} Inhibitor (M)$', ylabel='% Activity', \n",
        "               figure_size=(6.4, 4.8), dpi=80, outfile=None):\n",
        "    \"\"\"\n",
        "    Parameters:\n",
        "    ----------\n",
        "    data            : dict of experiment information: x, y, theta\n",
        "                        x is vector of log10 of inhibitor\n",
        "                        y is vector of %activity\n",
        "                        x and y must be same length\n",
        "                        theta is vector of 4 parameter values\n",
        "    theta           : vector, if no 'theta' in data, can using this plug-in theta\n",
        "    ASE             : vector, if no 'ASE' in data, can using this plug-in ASE\n",
        "    ax              : if None, generating new plot\n",
        "    line_color      : string, color of fitting line\n",
        "    line_style      : string, line_style of fitting line\n",
        "    label_curve     : string, label of fitting line\n",
        "    title_name      : string, title of the plot\n",
        "    xlabel, ylabel  : string, label of two axes of plot\n",
        "    figure_size     : (width, height) size of plot\n",
        "    dpi             : quality of plot\n",
        "    outfile         : optional, string, output file for saving plot\n",
        "    ----------\n",
        "    return the plot of curve with information of params and their ASE\n",
        "    \"\"\"\n",
        "\n",
        "    try: \n",
        "        y = data['y']\n",
        "    except:\n",
        "        y = data['response']\n",
        "\n",
        "    try:\n",
        "        x = data['x']\n",
        "    except: \n",
        "        x = data['LogConcentration']\n",
        "\n",
        "    if theta is None: \n",
        "        if 'theta' in data.index and 'ASE' in data.index:\n",
        "            theta = data['theta']\n",
        "            ASE = data['ASE']\n",
        "        else:\n",
        "            print(\"Please provide the values for 4 parameters.\")\n",
        "\n",
        "    if ax is None:\n",
        "        plt.figure(figsize=figure_size, dpi=dpi)\n",
        "        ax = plt.axes()\n",
        "\n",
        "    conc = np.linspace(min(x), max(x), num=50)\n",
        "    fitted = f_curve_vec(conc, *theta)\n",
        "\n",
        "    ax.plot(x, y, 'k.', label='Observed Data')\n",
        "    ax.plot(conc, fitted, color=line_color, linestyle=line_style, label=label_curve)\n",
        "    handles, labels = ax.get_legend_handles_labels()\n",
        "\n",
        "    ax.text(0.65, 0.7,\n",
        "            r'$R_b$: '+ str('%3.2f' %theta[0]) + ' $\\pm$ ' + str('%3.2f' %ASE[0])\n",
        "            + '\\n$R_t$: '+ str('%3.2f' %theta[1]) + ' $\\pm$ ' + str('%3.2f' %ASE[1]) \n",
        "            + '\\n$x_{50}$: '+ str('%3.2f' %theta[2]) + ' $\\pm$ ' + str('%3.2f' %ASE[2])\n",
        "            + '\\n$H$: ' + str('%3.2f' %theta[3]) + ' $\\pm$ ' + str('%3.2f' %ASE[3]), \n",
        "        fontsize=11, transform=ax.transAxes, color='k')\n",
        "\n",
        "    ax.set_xlabel(xlabel)\n",
        "    ax.set_ylabel(ylabel)\n",
        "\n",
        "    if title_name is not None:\n",
        "        ax.set_title(title_name)\n",
        "\n",
        "    # ax.legend(handles, labels, bbox_to_anchor=(1, 1))\n",
        "    plt.tight_layout();\n",
        "    \n",
        "    if outfile is not None: \n",
        "        plt.savefig(outfile)\n",
        "        plt.ioff()\n",
        "    else:\n",
        "        return ax\n",
        "\n",
        "def estimate_theta_downward_curve(data, init_theta=None, plotting=True, outfile=None):\n",
        "    \"\"\"\n",
        "    Fitting non-linear regression without control\n",
        "    Parameters:\n",
        "    ----------\n",
        "    data      : dataframe or list of two vectors: x, y\n",
        "                x is vector of concentration\n",
        "                y is vector of responsex and y must be same length\n",
        "    init_theta: vector of 4 parameters (bottom response, top response, logIC50, hill slope)\n",
        "                This is the initial values of thetas for parameter estimation\n",
        "    plotting  : boolean, plotting curve if True \n",
        "    outfile   : optional, string, output file for saving plot\n",
        "    ----------\n",
        "    return:\n",
        "        theta   : list, four paramter values returned from curve_fitting\n",
        "        ASE     : list, asymptotic standard error of four parameters \n",
        "        variance: float, variance of data on the curve\n",
        "    \"\"\"\n",
        "    idx = np.argmax(np.array(data['y']))\n",
        "    if idx>=0 and idx < (len(data['x'])-3):\n",
        "        if idx == 0: \n",
        "            x = np.array(data['x'])\n",
        "            y = np.array(data['y'])\n",
        "        else:\n",
        "            x = np.array(data['x'][idx:])\n",
        "            y = np.array(data['y'][idx:])\n",
        "        \n",
        "        data_update = {}\n",
        "        data_update['x'] = x\n",
        "        data_update['y'] = y\n",
        "        [theta, ASE, var] = parameter_estimation(data_update)\n",
        "        \n",
        "        if plotting:\n",
        "            plt.figure(figsize=(6.4, 4.8), dpi=100)\n",
        "            ax = plt.axes()\n",
        "            if idx > 0:\n",
        "                ax.plot(data['x'], data['y'], '.')\n",
        "                \n",
        "            plot_curve(data=data_update, theta=theta, ASE=ASE, ax=ax, outfile=outfile)\n",
        "\n",
        "        return [theta, ASE, var]\n",
        "    \n",
        "    elif idx==(len(data['x'])-1):\n",
        "        print(\"This curve goes upward!\")\n",
        "        data_update = data\n",
        "        [theta, ASE, var] = parameter_estimation(data_update)\n",
        "        \n",
        "        if plotting:\n",
        "            plt.figure(figsize=(6.4, 4.8), dpi=100)\n",
        "            ax = plt.axes()\n",
        "            plot_curve(data=data_update, theta=theta, ASE=ASE, ax=ax, outfile=outfile)\n",
        "\n",
        "        return [theta, ASE, var]\n",
        "    else:\n",
        "        print(\"Cannot fit the downward curve, not enough data\")"
      ],
      "metadata": {
        "id": "VeSIUxl0LLiF"
      },
      "execution_count": 4,
      "outputs": []
    },
    {
      "cell_type": "markdown",
      "metadata": {
        "id": "1uI0kaanlRW0"
      },
      "source": [
        "# Test 1"
      ]
    },
    {
      "cell_type": "markdown",
      "source": [
        "Below: \n",
        "- x: array, converted from concentration of inhibitor (unit: M) to $log_{10}$ of concentration\n",
        "- y: array, raw response of velocity (unit: M min$^{-1}$)"
      ],
      "metadata": {
        "id": "BRbX8tYhpyt_"
      }
    },
    {
      "cell_type": "code",
      "source": [
        "x = np.log10(np.array([0.25, 0.5, 1, 1.75, 2.5, 5, 10, 16.6, 33.3, 66.6, 100, 133.3])*1E-6) #M\n",
        "y = np.array([0.1204, 0.1862, 0.243, 0.3234, 0.3816, 0.4788, 0.5302, 0.3887, 0.2751, 0.1694, 0.129, 0.0947])*1E-6 # M min^{-1}"
      ],
      "metadata": {
        "id": "rcLLx2rhf1Z3"
      },
      "execution_count": 5,
      "outputs": []
    },
    {
      "cell_type": "markdown",
      "source": [
        "y will be scaled to %Activity before fitting the curve."
      ],
      "metadata": {
        "id": "icvUWZvRqPXH"
      }
    },
    {
      "cell_type": "code",
      "source": [
        "data = {}\n",
        "data['x'] = x\n",
        "data['y'] = scaling_data(y, min(y), max(y))\n",
        "\n",
        "plt.plot(data['x'], data['y'], '.')\n",
        "plt.xlabel(\"Log$_{10}$ Inhibitor (M)\")\n",
        "plt.ylabel(\"% Activity\");"
      ],
      "metadata": {
        "colab": {
          "base_uri": "https://localhost:8080/",
          "height": 453
        },
        "id": "d0tnuzMagPzW",
        "outputId": "c61d9c62-8c84-43d1-a7e7-117941f41629"
      },
      "execution_count": 6,
      "outputs": [
        {
          "output_type": "display_data",
          "data": {
            "text/plain": [
              "<Figure size 640x480 with 1 Axes>"
            ],
            "image/png": "[encoded data removed]"
          },
          "metadata": {}
        }
      ]
    },
    {
      "cell_type": "code",
      "source": [
        "[theta, ASE, var] = estimate_theta_downward_curve(data)\n",
        "[R_b, R_t, x50, H] = theta"
      ],
      "metadata": {
        "id": "sQarup0uqwPM",
        "colab": {
          "base_uri": "https://localhost:8080/",
          "height": 487
        },
        "outputId": "536258a2-033b-41cb-c98e-5bc2e8e39c83"
      },
      "execution_count": 7,
      "outputs": [
        {
          "output_type": "display_data",
          "data": {
            "text/plain": [
              "<Figure size 640x480 with 1 Axes>"
            ],
            "image/png": "[encoded data removed]"
          },
          "metadata": {}
        }
      ]
    },
    {
      "cell_type": "markdown",
      "source": [
        "# Test 2"
      ],
      "metadata": {
        "id": "iSuhLNKVChm0"
      }
    },
    {
      "cell_type": "markdown",
      "source": [
        "Loading input data given its name."
      ],
      "metadata": {
        "id": "QBljSsr1qYVT"
      }
    },
    {
      "cell_type": "code",
      "source": [
        "file_name = \"/content/drive/MyDrive/MoonShot/dimer/input/Input_Curve.csv\"\n",
        "\n",
        "# Read the CSV file\n",
        "data = pd.read_csv(file_name)\n",
        "data"
      ],
      "metadata": {
        "colab": {
          "base_uri": "https://localhost:8080/",
          "height": 425
        },
        "id": "ckEC5COZmh_A",
        "outputId": "c171199a-387f-455a-e824-9a2dd3bb878f"
      },
      "execution_count": 8,
      "outputs": [
        {
          "output_type": "execute_result",
          "data": {
            "text/plain": [
              "    Log10_Inhibitor  Percentage_Activity\n",
              "0        -13.815511            28.438878\n",
              "1        -13.396859            43.898342\n",
              "2        -12.978207            62.027221\n",
              "3        -12.559555            80.575488\n",
              "4        -12.140903            95.193721\n",
              "5        -11.722251           100.000000\n",
              "6        -11.303600            90.720157\n",
              "7        -10.884948            69.658028\n",
              "8        -10.466296            45.364887\n",
              "9        -10.047644            24.875981\n",
              "10        -9.628992            10.052129\n",
              "11        -9.210340             0.000000"
            ],
            "text/html": [
              "\n",
              "  <div id=\"df-6b8e82bb-734b-4954-94b0-64112ebbb17e\">\n",
              "    <div class=\"colab-df-container\">\n",
              "      <div>\n",
              "<style scoped>\n",
              "    .dataframe tbody tr th:only-of-type {\n",
              "        vertical-align: middle;\n",
              "    }\n",
              "\n",
              "    .dataframe tbody tr th {\n",
              "        vertical-align: top;\n",
              "    }\n",
              "\n",
              "    .dataframe thead th {\n",
              "        text-align: right;\n",
              "    }\n",
              "</style>\n",
              "<table border=\"1\" class=\"dataframe\">\n",
              "  <thead>\n",
              "    <tr style=\"text-align: right;\">\n",
              "      <th></th>\n",
              "      <th>Log10_Inhibitor</th>\n",
              "      <th>Percentage_Activity</th>\n",
              "    </tr>\n",
              "  </thead>\n",
              "  <tbody>\n",
              "    <tr>\n",
              "      <th>0</th>\n",
              "      <td>-13.815511</td>\n",
              "      <td>28.438878</td>\n",
              "    </tr>\n",
              "    <tr>\n",
              "      <th>1</th>\n",
              "      <td>-13.396859</td>\n",
              "      <td>43.898342</td>\n",
              "    </tr>\n",
              "    <tr>\n",
              "      <th>2</th>\n",
              "      <td>-12.978207</td>\n",
              "      <td>62.027221</td>\n",
              "    </tr>\n",
              "    <tr>\n",
              "      <th>3</th>\n",
              "      <td>-12.559555</td>\n",
              "      <td>80.575488</td>\n",
              "    </tr>\n",
              "    <tr>\n",
              "      <th>4</th>\n",
              "      <td>-12.140903</td>\n",
              "      <td>95.193721</td>\n",
              "    </tr>\n",
              "    <tr>\n",
              "      <th>5</th>\n",
              "      <td>-11.722251</td>\n",
              "      <td>100.000000</td>\n",
              "    </tr>\n",
              "    <tr>\n",
              "      <th>6</th>\n",
              "      <td>-11.303600</td>\n",
              "      <td>90.720157</td>\n",
              "    </tr>\n",
              "    <tr>\n",
              "      <th>7</th>\n",
              "      <td>-10.884948</td>\n",
              "      <td>69.658028</td>\n",
              "    </tr>\n",
              "    <tr>\n",
              "      <th>8</th>\n",
              "      <td>-10.466296</td>\n",
              "      <td>45.364887</td>\n",
              "    </tr>\n",
              "    <tr>\n",
              "      <th>9</th>\n",
              "      <td>-10.047644</td>\n",
              "      <td>24.875981</td>\n",
              "    </tr>\n",
              "    <tr>\n",
              "      <th>10</th>\n",
              "      <td>-9.628992</td>\n",
              "      <td>10.052129</td>\n",
              "    </tr>\n",
              "    <tr>\n",
              "      <th>11</th>\n",
              "      <td>-9.210340</td>\n",
              "      <td>0.000000</td>\n",
              "    </tr>\n",
              "  </tbody>\n",
              "</table>\n",
              "</div>\n",
              "      <button class=\"colab-df-convert\" onclick=\"convertToInteractive('df-6b8e82bb-734b-4954-94b0-64112ebbb17e')\"\n",
              "              title=\"Convert this dataframe to an interactive table.\"\n",
              "              style=\"display:none;\">\n",
              "        \n",
              "  <svg xmlns=\"http://www.w3.org/2000/svg\" height=\"24px\"viewBox=\"0 0 24 24\"\n",
              "       width=\"24px\">\n",
              "    <path d=\"M0 0h24v24H0V0z\" fill=\"none\"/>\n",
              "    <path d=\"M18.56 5.44l.94 2.06.94-2.06 2.06-.94-2.06-.94-.94-2.06-.94 2.06-2.06.94zm-11 1L8.5 8.5l.94-2.06 2.06-.94-2.06-.94L8.5 2.5l-.94 2.06-2.06.94zm10 10l.94 2.06.94-2.06 2.06-.94-2.06-.94-.94-2.06-.94 2.06-2.06.94z\"/><path d=\"M17.41 7.96l-1.37-1.37c-.4-.4-.92-.59-1.43-.59-.52 0-1.04.2-1.43.59L10.3 9.45l-7.72 7.72c-.78.78-.78 2.05 0 2.83L4 21.41c.39.39.9.59 1.41.59.51 0 1.02-.2 1.41-.59l7.78-7.78 2.81-2.81c.8-.78.8-2.07 0-2.86zM5.41 20L4 18.59l7.72-7.72 1.47 1.35L5.41 20z\"/>\n",
              "  </svg>\n",
              "      </button>\n",
              "      \n",
              "  <style>\n",
              "    .colab-df-container {\n",
              "      display:flex;\n",
              "      flex-wrap:wrap;\n",
              "      gap: 12px;\n",
              "    }\n",
              "\n",
              "    .colab-df-convert {\n",
              "      background-color: #E8F0FE;\n",
              "      border: none;\n",
              "      border-radius: 50%;\n",
              "      cursor: pointer;\n",
              "      display: none;\n",
              "      fill: #1967D2;\n",
              "      height: 32px;\n",
              "      padding: 0 0 0 0;\n",
              "      width: 32px;\n",
              "    }\n",
              "\n",
              "    .colab-df-convert:hover {\n",
              "      background-color: #E2EBFA;\n",
              "      box-shadow: 0px 1px 2px rgba(60, 64, 67, 0.3), 0px 1px 3px 1px rgba(60, 64, 67, 0.15);\n",
              "      fill: #174EA6;\n",
              "    }\n",
              "\n",
              "    [theme=dark] .colab-df-convert {\n",
              "      background-color: #3B4455;\n",
              "      fill: #D2E3FC;\n",
              "    }\n",
              "\n",
              "    [theme=dark] .colab-df-convert:hover {\n",
              "      background-color: #434B5C;\n",
              "      box-shadow: 0px 1px 3px 1px rgba(0, 0, 0, 0.15);\n",
              "      filter: drop-shadow(0px 1px 2px rgba(0, 0, 0, 0.3));\n",
              "      fill: #FFFFFF;\n",
              "    }\n",
              "  </style>\n",
              "\n",
              "      <script>\n",
              "        const buttonEl =\n",
              "          document.querySelector('#df-6b8e82bb-734b-4954-94b0-64112ebbb17e button.colab-df-convert');\n",
              "        buttonEl.style.display =\n",
              "          google.colab.kernel.accessAllowed ? 'block' : 'none';\n",
              "\n",
              "        async function convertToInteractive(key) {\n",
              "          const element = document.querySelector('#df-6b8e82bb-734b-4954-94b0-64112ebbb17e');\n",
              "          const dataTable =\n",
              "            await google.colab.kernel.invokeFunction('convertToInteractive',\n",
              "                                                     [key], {});\n",
              "          if (!dataTable) return;\n",
              "\n",
              "          const docLinkHtml = 'Like what you see? Visit the ' +\n",
              "            '<a target=\"_blank\" href=https://colab.research.google.com/notebooks/data_table.ipynb>data table notebook</a>'\n",
              "            + ' to learn more about interactive tables.';\n",
              "          element.innerHTML = '';\n",
              "          dataTable['output_type'] = 'display_data';\n",
              "          await google.colab.output.renderOutput(dataTable, element);\n",
              "          const docLink = document.createElement('div');\n",
              "          docLink.innerHTML = docLinkHtml;\n",
              "          element.appendChild(docLink);\n",
              "        }\n",
              "      </script>\n",
              "    </div>\n",
              "  </div>\n",
              "  "
            ]
          },
          "metadata": {},
          "execution_count": 8
        }
      ]
    },
    {
      "cell_type": "markdown",
      "source": [
        "We change the name of column to 'x' and 'y'."
      ],
      "metadata": {
        "id": "-60cmyp8qeqn"
      }
    },
    {
      "cell_type": "code",
      "source": [
        "data = data.rename(columns={\"Log10_Inhibitor\": \"x\", \"Percentage_Activity\": \"y\"})\n",
        "data"
      ],
      "metadata": {
        "colab": {
          "base_uri": "https://localhost:8080/",
          "height": 425
        },
        "id": "UbjD4OthnhmF",
        "outputId": "c5f73f4c-7407-4a44-d98e-ec36c9de05d5"
      },
      "execution_count": 9,
      "outputs": [
        {
          "output_type": "execute_result",
          "data": {
            "text/plain": [
              "            x           y\n",
              "0  -13.815511   28.438878\n",
              "1  -13.396859   43.898342\n",
              "2  -12.978207   62.027221\n",
              "3  -12.559555   80.575488\n",
              "4  -12.140903   95.193721\n",
              "5  -11.722251  100.000000\n",
              "6  -11.303600   90.720157\n",
              "7  -10.884948   69.658028\n",
              "8  -10.466296   45.364887\n",
              "9  -10.047644   24.875981\n",
              "10  -9.628992   10.052129\n",
              "11  -9.210340    0.000000"
            ],
            "text/html": [
              "\n",
              "  <div id=\"df-bc31d2ac-d3bc-4ed3-bb71-5feaa866d6e8\">\n",
              "    <div class=\"colab-df-container\">\n",
              "      <div>\n",
              "<style scoped>\n",
              "    .dataframe tbody tr th:only-of-type {\n",
              "        vertical-align: middle;\n",
              "    }\n",
              "\n",
              "    .dataframe tbody tr th {\n",
              "        vertical-align: top;\n",
              "    }\n",
              "\n",
              "    .dataframe thead th {\n",
              "        text-align: right;\n",
              "    }\n",
              "</style>\n",
              "<table border=\"1\" class=\"dataframe\">\n",
              "  <thead>\n",
              "    <tr style=\"text-align: right;\">\n",
              "      <th></th>\n",
              "      <th>x</th>\n",
              "      <th>y</th>\n",
              "    </tr>\n",
              "  </thead>\n",
              "  <tbody>\n",
              "    <tr>\n",
              "      <th>0</th>\n",
              "      <td>-13.815511</td>\n",
              "      <td>28.438878</td>\n",
              "    </tr>\n",
              "    <tr>\n",
              "      <th>1</th>\n",
              "      <td>-13.396859</td>\n",
              "      <td>43.898342</td>\n",
              "    </tr>\n",
              "    <tr>\n",
              "      <th>2</th>\n",
              "      <td>-12.978207</td>\n",
              "      <td>62.027221</td>\n",
              "    </tr>\n",
              "    <tr>\n",
              "      <th>3</th>\n",
              "      <td>-12.559555</td>\n",
              "      <td>80.575488</td>\n",
              "    </tr>\n",
              "    <tr>\n",
              "      <th>4</th>\n",
              "      <td>-12.140903</td>\n",
              "      <td>95.193721</td>\n",
              "    </tr>\n",
              "    <tr>\n",
              "      <th>5</th>\n",
              "      <td>-11.722251</td>\n",
              "      <td>100.000000</td>\n",
              "    </tr>\n",
              "    <tr>\n",
              "      <th>6</th>\n",
              "      <td>-11.303600</td>\n",
              "      <td>90.720157</td>\n",
              "    </tr>\n",
              "    <tr>\n",
              "      <th>7</th>\n",
              "      <td>-10.884948</td>\n",
              "      <td>69.658028</td>\n",
              "    </tr>\n",
              "    <tr>\n",
              "      <th>8</th>\n",
              "      <td>-10.466296</td>\n",
              "      <td>45.364887</td>\n",
              "    </tr>\n",
              "    <tr>\n",
              "      <th>9</th>\n",
              "      <td>-10.047644</td>\n",
              "      <td>24.875981</td>\n",
              "    </tr>\n",
              "    <tr>\n",
              "      <th>10</th>\n",
              "      <td>-9.628992</td>\n",
              "      <td>10.052129</td>\n",
              "    </tr>\n",
              "    <tr>\n",
              "      <th>11</th>\n",
              "      <td>-9.210340</td>\n",
              "      <td>0.000000</td>\n",
              "    </tr>\n",
              "  </tbody>\n",
              "</table>\n",
              "</div>\n",
              "      <button class=\"colab-df-convert\" onclick=\"convertToInteractive('df-bc31d2ac-d3bc-4ed3-bb71-5feaa866d6e8')\"\n",
              "              title=\"Convert this dataframe to an interactive table.\"\n",
              "              style=\"display:none;\">\n",
              "        \n",
              "  <svg xmlns=\"http://www.w3.org/2000/svg\" height=\"24px\"viewBox=\"0 0 24 24\"\n",
              "       width=\"24px\">\n",
              "    <path d=\"M0 0h24v24H0V0z\" fill=\"none\"/>\n",
              "    <path d=\"M18.56 5.44l.94 2.06.94-2.06 2.06-.94-2.06-.94-.94-2.06-.94 2.06-2.06.94zm-11 1L8.5 8.5l.94-2.06 2.06-.94-2.06-.94L8.5 2.5l-.94 2.06-2.06.94zm10 10l.94 2.06.94-2.06 2.06-.94-2.06-.94-.94-2.06-.94 2.06-2.06.94z\"/><path d=\"M17.41 7.96l-1.37-1.37c-.4-.4-.92-.59-1.43-.59-.52 0-1.04.2-1.43.59L10.3 9.45l-7.72 7.72c-.78.78-.78 2.05 0 2.83L4 21.41c.39.39.9.59 1.41.59.51 0 1.02-.2 1.41-.59l7.78-7.78 2.81-2.81c.8-.78.8-2.07 0-2.86zM5.41 20L4 18.59l7.72-7.72 1.47 1.35L5.41 20z\"/>\n",
              "  </svg>\n",
              "      </button>\n",
              "      \n",
              "  <style>\n",
              "    .colab-df-container {\n",
              "      display:flex;\n",
              "      flex-wrap:wrap;\n",
              "      gap: 12px;\n",
              "    }\n",
              "\n",
              "    .colab-df-convert {\n",
              "      background-color: #E8F0FE;\n",
              "      border: none;\n",
              "      border-radius: 50%;\n",
              "      cursor: pointer;\n",
              "      display: none;\n",
              "      fill: #1967D2;\n",
              "      height: 32px;\n",
              "      padding: 0 0 0 0;\n",
              "      width: 32px;\n",
              "    }\n",
              "\n",
              "    .colab-df-convert:hover {\n",
              "      background-color: #E2EBFA;\n",
              "      box-shadow: 0px 1px 2px rgba(60, 64, 67, 0.3), 0px 1px 3px 1px rgba(60, 64, 67, 0.15);\n",
              "      fill: #174EA6;\n",
              "    }\n",
              "\n",
              "    [theme=dark] .colab-df-convert {\n",
              "      background-color: #3B4455;\n",
              "      fill: #D2E3FC;\n",
              "    }\n",
              "\n",
              "    [theme=dark] .colab-df-convert:hover {\n",
              "      background-color: #434B5C;\n",
              "      box-shadow: 0px 1px 3px 1px rgba(0, 0, 0, 0.15);\n",
              "      filter: drop-shadow(0px 1px 2px rgba(0, 0, 0, 0.3));\n",
              "      fill: #FFFFFF;\n",
              "    }\n",
              "  </style>\n",
              "\n",
              "      <script>\n",
              "        const buttonEl =\n",
              "          document.querySelector('#df-bc31d2ac-d3bc-4ed3-bb71-5feaa866d6e8 button.colab-df-convert');\n",
              "        buttonEl.style.display =\n",
              "          google.colab.kernel.accessAllowed ? 'block' : 'none';\n",
              "\n",
              "        async function convertToInteractive(key) {\n",
              "          const element = document.querySelector('#df-bc31d2ac-d3bc-4ed3-bb71-5feaa866d6e8');\n",
              "          const dataTable =\n",
              "            await google.colab.kernel.invokeFunction('convertToInteractive',\n",
              "                                                     [key], {});\n",
              "          if (!dataTable) return;\n",
              "\n",
              "          const docLinkHtml = 'Like what you see? Visit the ' +\n",
              "            '<a target=\"_blank\" href=https://colab.research.google.com/notebooks/data_table.ipynb>data table notebook</a>'\n",
              "            + ' to learn more about interactive tables.';\n",
              "          element.innerHTML = '';\n",
              "          dataTable['output_type'] = 'display_data';\n",
              "          await google.colab.output.renderOutput(dataTable, element);\n",
              "          const docLink = document.createElement('div');\n",
              "          docLink.innerHTML = docLinkHtml;\n",
              "          element.appendChild(docLink);\n",
              "        }\n",
              "      </script>\n",
              "    </div>\n",
              "  </div>\n",
              "  "
            ]
          },
          "metadata": {},
          "execution_count": 9
        }
      ]
    },
    {
      "cell_type": "markdown",
      "source": [
        "We provide the outfile so that the plot can be saved."
      ],
      "metadata": {
        "id": "NJEFkUb5qmuv"
      }
    },
    {
      "cell_type": "code",
      "source": [
        "outfile = \"/content/drive/MyDrive/MoonShot/dimer/output/curve.png\"\n",
        "[theta, ASE, var] = estimate_theta_downward_curve(data=data, outfile=outfile)\n",
        "[R_b, R_t, x50, H] = theta"
      ],
      "metadata": {
        "colab": {
          "base_uri": "https://localhost:8080/",
          "height": 487
        },
        "id": "xExwtKLxnsQv",
        "outputId": "4e0c9ec9-0fb4-40a8-d8aa-eb3a9b248dc3"
      },
      "execution_count": 10,
      "outputs": [
        {
          "output_type": "display_data",
          "data": {
            "text/plain": [
              "<Figure size 640x480 with 1 Axes>"
            ],
            "image/png": "[encoded data removed]"
          },
          "metadata": {}
        }
      ]
    },
    {
      "cell_type": "markdown",
      "metadata": {
        "id": "iBHCtfjWwqT8"
      },
      "source": [
        "# Test 3"
      ]
    },
    {
      "cell_type": "markdown",
      "source": [
        "Below: \n",
        "- x: array, converted from concentration of inhibitor (unit: M) to $log_{10}$ of concentration\n",
        "- y: array, raw response of velocity (unit: M min$^{-1}$)"
      ],
      "metadata": {
        "id": "A0C0AwxIwqUH"
      }
    },
    {
      "cell_type": "code",
      "source": [
        "x = np.log10(np.array([0.25, 0.5, 1, 1.75, 2.5, 5])*1E-6) #M\n",
        "y = np.array([0.1204, 0.1862, 0.243, 0.3234, 0.3816, 0.4788])*1E-6 # M min^{-1}"
      ],
      "metadata": {
        "id": "wCKcI92mwqUI"
      },
      "execution_count": 5,
      "outputs": []
    },
    {
      "cell_type": "markdown",
      "source": [
        "y will be scaled to %Activity before fitting the curve."
      ],
      "metadata": {
        "id": "AXAUDFpywqUI"
      }
    },
    {
      "cell_type": "code",
      "source": [
        "data = {}\n",
        "data['x'] = x\n",
        "data['y'] = scaling_data(y, min(y), max(y))"
      ],
      "metadata": {
        "id": "sVeo9kQKwqUI"
      },
      "execution_count": 6,
      "outputs": []
    },
    {
      "cell_type": "code",
      "source": [
        "[theta, ASE, var] = estimate_theta_downward_curve(data)"
      ],
      "metadata": {
        "colab": {
          "base_uri": "https://localhost:8080/",
          "height": 504
        },
        "outputId": "aca272e7-4c4c-4ca0-c965-bd95e640ead6",
        "id": "H5IZ7ZCawqUI"
      },
      "execution_count": 7,
      "outputs": [
        {
          "output_type": "stream",
          "name": "stdout",
          "text": [
            "This curve goes upward!\n"
          ]
        },
        {
          "output_type": "display_data",
          "data": {
            "text/plain": [
              "<Figure size 640x480 with 1 Axes>"
            ],
            "image/png": "[encoded data removed]"
          },
          "metadata": {}
        }
      ]
    },
    {
      "cell_type": "markdown",
      "metadata": {
        "id": "TC_I6BUWx-Vi"
      },
      "source": [
        "# Test 4"
      ]
    },
    {
      "cell_type": "code",
      "source": [
        "file_name = \"/content/drive/MyDrive/MoonShot/dimer/input/Input_Curve_3_rep.csv\"\n",
        "\n",
        "# Read the CSV file\n",
        "data = pd.read_csv(file_name)\n",
        "data.head()"
      ],
      "metadata": {
        "colab": {
          "base_uri": "https://localhost:8080/",
          "height": 206
        },
        "outputId": "4b7f4f1c-0b3d-46a9-d2c1-2f2f2173e176",
        "id": "pKsA7NwD0uRO"
      },
      "execution_count": 8,
      "outputs": [
        {
          "output_type": "execute_result",
          "data": {
            "text/plain": [
              "   Log10_Inhibitor  Percentage_Activity\n",
              "0         -13.8155              27.8048\n",
              "1         -13.8155              24.9186\n",
              "2         -13.8155              27.9258\n",
              "3         -13.3969              45.8370\n",
              "4         -13.3969              43.6765"
            ],
            "text/html": [
              "\n",
              "  <div id=\"df-783b759c-f60d-4f58-bc1e-89bf6c805ad8\">\n",
              "    <div class=\"colab-df-container\">\n",
              "      <div>\n",
              "<style scoped>\n",
              "    .dataframe tbody tr th:only-of-type {\n",
              "        vertical-align: middle;\n",
              "    }\n",
              "\n",
              "    .dataframe tbody tr th {\n",
              "        vertical-align: top;\n",
              "    }\n",
              "\n",
              "    .dataframe thead th {\n",
              "        text-align: right;\n",
              "    }\n",
              "</style>\n",
              "<table border=\"1\" class=\"dataframe\">\n",
              "  <thead>\n",
              "    <tr style=\"text-align: right;\">\n",
              "      <th></th>\n",
              "      <th>Log10_Inhibitor</th>\n",
              "      <th>Percentage_Activity</th>\n",
              "    </tr>\n",
              "  </thead>\n",
              "  <tbody>\n",
              "    <tr>\n",
              "      <th>0</th>\n",
              "      <td>-13.8155</td>\n",
              "      <td>27.8048</td>\n",
              "    </tr>\n",
              "    <tr>\n",
              "      <th>1</th>\n",
              "      <td>-13.8155</td>\n",
              "      <td>24.9186</td>\n",
              "    </tr>\n",
              "    <tr>\n",
              "      <th>2</th>\n",
              "      <td>-13.8155</td>\n",
              "      <td>27.9258</td>\n",
              "    </tr>\n",
              "    <tr>\n",
              "      <th>3</th>\n",
              "      <td>-13.3969</td>\n",
              "      <td>45.8370</td>\n",
              "    </tr>\n",
              "    <tr>\n",
              "      <th>4</th>\n",
              "      <td>-13.3969</td>\n",
              "      <td>43.6765</td>\n",
              "    </tr>\n",
              "  </tbody>\n",
              "</table>\n",
              "</div>\n",
              "      <button class=\"colab-df-convert\" onclick=\"convertToInteractive('df-783b759c-f60d-4f58-bc1e-89bf6c805ad8')\"\n",
              "              title=\"Convert this dataframe to an interactive table.\"\n",
              "              style=\"display:none;\">\n",
              "        \n",
              "  <svg xmlns=\"http://www.w3.org/2000/svg\" height=\"24px\"viewBox=\"0 0 24 24\"\n",
              "       width=\"24px\">\n",
              "    <path d=\"M0 0h24v24H0V0z\" fill=\"none\"/>\n",
              "    <path d=\"M18.56 5.44l.94 2.06.94-2.06 2.06-.94-2.06-.94-.94-2.06-.94 2.06-2.06.94zm-11 1L8.5 8.5l.94-2.06 2.06-.94-2.06-.94L8.5 2.5l-.94 2.06-2.06.94zm10 10l.94 2.06.94-2.06 2.06-.94-2.06-.94-.94-2.06-.94 2.06-2.06.94z\"/><path d=\"M17.41 7.96l-1.37-1.37c-.4-.4-.92-.59-1.43-.59-.52 0-1.04.2-1.43.59L10.3 9.45l-7.72 7.72c-.78.78-.78 2.05 0 2.83L4 21.41c.39.39.9.59 1.41.59.51 0 1.02-.2 1.41-.59l7.78-7.78 2.81-2.81c.8-.78.8-2.07 0-2.86zM5.41 20L4 18.59l7.72-7.72 1.47 1.35L5.41 20z\"/>\n",
              "  </svg>\n",
              "      </button>\n",
              "      \n",
              "  <style>\n",
              "    .colab-df-container {\n",
              "      display:flex;\n",
              "      flex-wrap:wrap;\n",
              "      gap: 12px;\n",
              "    }\n",
              "\n",
              "    .colab-df-convert {\n",
              "      background-color: #E8F0FE;\n",
              "      border: none;\n",
              "      border-radius: 50%;\n",
              "      cursor: pointer;\n",
              "      display: none;\n",
              "      fill: #1967D2;\n",
              "      height: 32px;\n",
              "      padding: 0 0 0 0;\n",
              "      width: 32px;\n",
              "    }\n",
              "\n",
              "    .colab-df-convert:hover {\n",
              "      background-color: #E2EBFA;\n",
              "      box-shadow: 0px 1px 2px rgba(60, 64, 67, 0.3), 0px 1px 3px 1px rgba(60, 64, 67, 0.15);\n",
              "      fill: #174EA6;\n",
              "    }\n",
              "\n",
              "    [theme=dark] .colab-df-convert {\n",
              "      background-color: #3B4455;\n",
              "      fill: #D2E3FC;\n",
              "    }\n",
              "\n",
              "    [theme=dark] .colab-df-convert:hover {\n",
              "      background-color: #434B5C;\n",
              "      box-shadow: 0px 1px 3px 1px rgba(0, 0, 0, 0.15);\n",
              "      filter: drop-shadow(0px 1px 2px rgba(0, 0, 0, 0.3));\n",
              "      fill: #FFFFFF;\n",
              "    }\n",
              "  </style>\n",
              "\n",
              "      <script>\n",
              "        const buttonEl =\n",
              "          document.querySelector('#df-783b759c-f60d-4f58-bc1e-89bf6c805ad8 button.colab-df-convert');\n",
              "        buttonEl.style.display =\n",
              "          google.colab.kernel.accessAllowed ? 'block' : 'none';\n",
              "\n",
              "        async function convertToInteractive(key) {\n",
              "          const element = document.querySelector('#df-783b759c-f60d-4f58-bc1e-89bf6c805ad8');\n",
              "          const dataTable =\n",
              "            await google.colab.kernel.invokeFunction('convertToInteractive',\n",
              "                                                     [key], {});\n",
              "          if (!dataTable) return;\n",
              "\n",
              "          const docLinkHtml = 'Like what you see? Visit the ' +\n",
              "            '<a target=\"_blank\" href=https://colab.research.google.com/notebooks/data_table.ipynb>data table notebook</a>'\n",
              "            + ' to learn more about interactive tables.';\n",
              "          element.innerHTML = '';\n",
              "          dataTable['output_type'] = 'display_data';\n",
              "          await google.colab.output.renderOutput(dataTable, element);\n",
              "          const docLink = document.createElement('div');\n",
              "          docLink.innerHTML = docLinkHtml;\n",
              "          element.appendChild(docLink);\n",
              "        }\n",
              "      </script>\n",
              "    </div>\n",
              "  </div>\n",
              "  "
            ]
          },
          "metadata": {},
          "execution_count": 8
        }
      ]
    },
    {
      "cell_type": "markdown",
      "source": [
        "We change the name of column to 'x' and 'y'."
      ],
      "metadata": {
        "id": "kwjVo4mw0uRP"
      }
    },
    {
      "cell_type": "code",
      "source": [
        "data = data.rename(columns={\"Log10_Inhibitor\": \"x\", \"Percentage_Activity\": \"y\"})\n",
        "data.head()"
      ],
      "metadata": {
        "colab": {
          "base_uri": "https://localhost:8080/",
          "height": 206
        },
        "outputId": "fd83f717-b6aa-411f-9a8b-204a359a1b26",
        "id": "OGJMyjDQ0uRQ"
      },
      "execution_count": 9,
      "outputs": [
        {
          "output_type": "execute_result",
          "data": {
            "text/plain": [
              "         x        y\n",
              "0 -13.8155  27.8048\n",
              "1 -13.8155  24.9186\n",
              "2 -13.8155  27.9258\n",
              "3 -13.3969  45.8370\n",
              "4 -13.3969  43.6765"
            ],
            "text/html": [
              "\n",
              "  <div id=\"df-4b7f0ce8-252b-4c75-ac8b-d2c59a8c355c\">\n",
              "    <div class=\"colab-df-container\">\n",
              "      <div>\n",
              "<style scoped>\n",
              "    .dataframe tbody tr th:only-of-type {\n",
              "        vertical-align: middle;\n",
              "    }\n",
              "\n",
              "    .dataframe tbody tr th {\n",
              "        vertical-align: top;\n",
              "    }\n",
              "\n",
              "    .dataframe thead th {\n",
              "        text-align: right;\n",
              "    }\n",
              "</style>\n",
              "<table border=\"1\" class=\"dataframe\">\n",
              "  <thead>\n",
              "    <tr style=\"text-align: right;\">\n",
              "      <th></th>\n",
              "      <th>x</th>\n",
              "      <th>y</th>\n",
              "    </tr>\n",
              "  </thead>\n",
              "  <tbody>\n",
              "    <tr>\n",
              "      <th>0</th>\n",
              "      <td>-13.8155</td>\n",
              "      <td>27.8048</td>\n",
              "    </tr>\n",
              "    <tr>\n",
              "      <th>1</th>\n",
              "      <td>-13.8155</td>\n",
              "      <td>24.9186</td>\n",
              "    </tr>\n",
              "    <tr>\n",
              "      <th>2</th>\n",
              "      <td>-13.8155</td>\n",
              "      <td>27.9258</td>\n",
              "    </tr>\n",
              "    <tr>\n",
              "      <th>3</th>\n",
              "      <td>-13.3969</td>\n",
              "      <td>45.8370</td>\n",
              "    </tr>\n",
              "    <tr>\n",
              "      <th>4</th>\n",
              "      <td>-13.3969</td>\n",
              "      <td>43.6765</td>\n",
              "    </tr>\n",
              "  </tbody>\n",
              "</table>\n",
              "</div>\n",
              "      <button class=\"colab-df-convert\" onclick=\"convertToInteractive('df-4b7f0ce8-252b-4c75-ac8b-d2c59a8c355c')\"\n",
              "              title=\"Convert this dataframe to an interactive table.\"\n",
              "              style=\"display:none;\">\n",
              "        \n",
              "  <svg xmlns=\"http://www.w3.org/2000/svg\" height=\"24px\"viewBox=\"0 0 24 24\"\n",
              "       width=\"24px\">\n",
              "    <path d=\"M0 0h24v24H0V0z\" fill=\"none\"/>\n",
              "    <path d=\"M18.56 5.44l.94 2.06.94-2.06 2.06-.94-2.06-.94-.94-2.06-.94 2.06-2.06.94zm-11 1L8.5 8.5l.94-2.06 2.06-.94-2.06-.94L8.5 2.5l-.94 2.06-2.06.94zm10 10l.94 2.06.94-2.06 2.06-.94-2.06-.94-.94-2.06-.94 2.06-2.06.94z\"/><path d=\"M17.41 7.96l-1.37-1.37c-.4-.4-.92-.59-1.43-.59-.52 0-1.04.2-1.43.59L10.3 9.45l-7.72 7.72c-.78.78-.78 2.05 0 2.83L4 21.41c.39.39.9.59 1.41.59.51 0 1.02-.2 1.41-.59l7.78-7.78 2.81-2.81c.8-.78.8-2.07 0-2.86zM5.41 20L4 18.59l7.72-7.72 1.47 1.35L5.41 20z\"/>\n",
              "  </svg>\n",
              "      </button>\n",
              "      \n",
              "  <style>\n",
              "    .colab-df-container {\n",
              "      display:flex;\n",
              "      flex-wrap:wrap;\n",
              "      gap: 12px;\n",
              "    }\n",
              "\n",
              "    .colab-df-convert {\n",
              "      background-color: #E8F0FE;\n",
              "      border: none;\n",
              "      border-radius: 50%;\n",
              "      cursor: pointer;\n",
              "      display: none;\n",
              "      fill: #1967D2;\n",
              "      height: 32px;\n",
              "      padding: 0 0 0 0;\n",
              "      width: 32px;\n",
              "    }\n",
              "\n",
              "    .colab-df-convert:hover {\n",
              "      background-color: #E2EBFA;\n",
              "      box-shadow: 0px 1px 2px rgba(60, 64, 67, 0.3), 0px 1px 3px 1px rgba(60, 64, 67, 0.15);\n",
              "      fill: #174EA6;\n",
              "    }\n",
              "\n",
              "    [theme=dark] .colab-df-convert {\n",
              "      background-color: #3B4455;\n",
              "      fill: #D2E3FC;\n",
              "    }\n",
              "\n",
              "    [theme=dark] .colab-df-convert:hover {\n",
              "      background-color: #434B5C;\n",
              "      box-shadow: 0px 1px 3px 1px rgba(0, 0, 0, 0.15);\n",
              "      filter: drop-shadow(0px 1px 2px rgba(0, 0, 0, 0.3));\n",
              "      fill: #FFFFFF;\n",
              "    }\n",
              "  </style>\n",
              "\n",
              "      <script>\n",
              "        const buttonEl =\n",
              "          document.querySelector('#df-4b7f0ce8-252b-4c75-ac8b-d2c59a8c355c button.colab-df-convert');\n",
              "        buttonEl.style.display =\n",
              "          google.colab.kernel.accessAllowed ? 'block' : 'none';\n",
              "\n",
              "        async function convertToInteractive(key) {\n",
              "          const element = document.querySelector('#df-4b7f0ce8-252b-4c75-ac8b-d2c59a8c355c');\n",
              "          const dataTable =\n",
              "            await google.colab.kernel.invokeFunction('convertToInteractive',\n",
              "                                                     [key], {});\n",
              "          if (!dataTable) return;\n",
              "\n",
              "          const docLinkHtml = 'Like what you see? Visit the ' +\n",
              "            '<a target=\"_blank\" href=https://colab.research.google.com/notebooks/data_table.ipynb>data table notebook</a>'\n",
              "            + ' to learn more about interactive tables.';\n",
              "          element.innerHTML = '';\n",
              "          dataTable['output_type'] = 'display_data';\n",
              "          await google.colab.output.renderOutput(dataTable, element);\n",
              "          const docLink = document.createElement('div');\n",
              "          docLink.innerHTML = docLinkHtml;\n",
              "          element.appendChild(docLink);\n",
              "        }\n",
              "      </script>\n",
              "    </div>\n",
              "  </div>\n",
              "  "
            ]
          },
          "metadata": {},
          "execution_count": 9
        }
      ]
    },
    {
      "cell_type": "code",
      "source": [
        "outfile = \"/content/drive/MyDrive/MoonShot/dimer/output/curve_3_reps.png\"\n",
        "[theta, ASE, var] = estimate_theta_downward_curve(data=data, outfile=outfile)\n",
        "[R_b, R_t, x50, H] = theta"
      ],
      "metadata": {
        "colab": {
          "base_uri": "https://localhost:8080/",
          "height": 487
        },
        "outputId": "aa91ed06-3648-4658-d338-583a894a9f30",
        "id": "3CieRMPWx-Vt"
      },
      "execution_count": 10,
      "outputs": [
        {
          "output_type": "display_data",
          "data": {
            "text/plain": [
              "<Figure size 640x480 with 1 Axes>"
            ],
            "image/png": "[encoded data removed]"
          },
          "metadata": {}
        }
      ]
    }
  ],
  "metadata": {
    "colab": {
      "provenance": [],
      "collapsed_sections": [
        "ColIN1gJlTRL",
        "nbXR2sG3gzyo",
        "1uI0kaanlRW0",
        "iSuhLNKVChm0"
      ],
      "toc_visible": true
    },
    "kernelspec": {
      "display_name": "Python 3",
      "name": "python3"
    },
    "language_info": {
      "name": "python"
    }
  },
  "nbformat": 4,
  "nbformat_minor": 0
}