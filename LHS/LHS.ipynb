{
  "cells": [
    {
      "cell_type": "markdown",
      "metadata": {
        "id": "ColIN1gJlTRL"
      },
      "source": [
        "# Installation"
      ]
    },
    {
      "cell_type": "code",
      "execution_count": null,
      "metadata": {
        "id": "Y4t9KpzclZiJ"
      },
      "outputs": [],
      "source": [
        "import numpy as np\n",
        "import itertools\n",
        "import os\n",
        "import argparse\n",
        "import glob\n",
        "\n",
        "%matplotlib inline\n",
        "import matplotlib.pyplot as plt\n",
        "\n",
        "import seaborn as sns"
      ]
    },
    {
      "cell_type": "code",
      "execution_count": null,
      "metadata": {
        "id": "5dGFVNHoeGGH"
      },
      "outputs": [],
      "source": [
        "import scipy\n",
        "from scipy.optimize import minimize, curve_fit\n",
        "from scipy.stats import qmc\n",
        "\n",
        "import pandas as pd"
      ]
    },
    {
      "cell_type": "markdown",
      "metadata": {
        "id": "nbXR2sG3gzyo"
      },
      "source": [
        "# Functions"
      ]
    },
    {
      "cell_type": "code",
      "source": [
        "#=============================================================================================\n",
        "# General robust competitive binding model\n",
        "#=============================================================================================\n",
        "\n",
        "class GeneralBindingModel:\n",
        "   \"\"\"\n",
        "   General robust binding model for one protein and arbitrary number of competitive ligands.\n",
        "\n",
        "   \"\"\"\n",
        "\n",
        "   @classmethod\n",
        "   def equilibrium_concentrations(cls, reactions, conservation_equations, tol=1.0e-8, initial_guess='zero'):\n",
        "      \"\"\"\n",
        "      Compute the equilibrium concentrations of each complex species for a general set of binding reactions.\n",
        "\n",
        "      Parameters\n",
        "      ----------\n",
        "      reactions : list\n",
        "          List of binding reactions.\n",
        "          Each binding reaction is encoded as a tuple of (log equilibrium constant, dict of stoichiometry)\n",
        "          Example: K_d = [RL] / ([R] [L]) becomes [ (-10, {'RL': -1, 'R' : +1, 'L' : +1}) ]\n",
        "      conservation_equations : list\n",
        "          List of mass conservation laws.\n",
        "          Each mass conservation law is encoded as a tuple of (log total concentration, dict of stoichiometry of all species)\n",
        "          Example: [R]tot = 10^-6 M = [RL] + [R] and [L]tot = 10^-6 M = [RL] + [L] becomes [ (-6, {'RL' : +1, 'R' : +1}), (-6, {'RL' : +1, 'L' : +1}) ]\n",
        "      tol : float, optional, default=1.0e-8\n",
        "          Solution tolerance for log concentrations.\n",
        "      initial_guess : str, optional, default='zero'\n",
        "          If 'zero', will assume all initial log concentrations are zero.\n",
        "          If 'spread', will spread out concentration among all species.\n",
        "\n",
        "      Returns\n",
        "      -------\n",
        "      log_concs : dict of str : float\n",
        "          log_concs[species] is the log concentration of specified species\n",
        "\n",
        "      Examples\n",
        "      --------\n",
        "\n",
        "      Simple 1:1 association\n",
        "\n",
        "      >>> reactions = [ (-10, {'RL': -1, 'R' : +1, 'L' : +1}) ]\n",
        "      >>> conservation_equations = [ (-6, {'RL' : +1, 'R' : +1}), (-6, {'RL' : +1, 'L' : +1}) ]\n",
        "      >>> log_concs = GeneralBindingModel.equilibrium_concentrations(reactions, conservation_equations)\n",
        "\n",
        "     Competitive 1:1 association\n",
        "\n",
        "      >>> reactions = [ (-10, {'RL': -1, 'R' : +1, 'L' : +1}), (-5, {'RP' : -1, 'R' : +1, 'P' : +1}) ]\n",
        "      >>> conservation_equations = [ (-6, {'RL' : +1, 'RP' : +1, 'R' : +1}), (-6, {'RL' : +1, 'L' : +1}), (-5, {'RP' : +1, 'P' : +1}) ]\n",
        "      >>> log_concs = GeneralBindingModel.equilibrium_concentrations(reactions, conservation_equations)\n",
        "\n",
        "      TODO\n",
        "      ----\n",
        "      * Can we allow the caller to specify initial conditions instead of conservation laws?\n",
        "\n",
        "      \"\"\"\n",
        "\n",
        "      nreactions = len(reactions)\n",
        "      nconservation = len(conservation_equations)\n",
        "      nequations = nreactions + nconservation\n",
        "\n",
        "      # Determine names of all species.\n",
        "      all_species = dict() # ordered\n",
        "      for (log_equilibrium_constant, reaction) in reactions:\n",
        "          for species in reaction.keys():\n",
        "              all_species[species] = 1\n",
        "      all_species = tuple(all_species.keys()) # order is now fixed\n",
        "      nspecies = len(all_species)\n",
        "\n",
        "      # Construct function with appropriate roots.\n",
        "      def ftarget(X):\n",
        "          target = np.zeros([nequations], np.float64)\n",
        "          jacobian = np.zeros([nequations, nspecies], np.float64)\n",
        "          equation_index = 0\n",
        "          # Reactions\n",
        "          for (log_equilibrium_constant, reaction) in reactions:\n",
        "              target[equation_index] = - log_equilibrium_constant\n",
        "              for (species_index, species) in enumerate(all_species):\n",
        "                  if species in reaction:\n",
        "                      stoichiometry = reaction[species]\n",
        "                      target[equation_index] += stoichiometry * X[species_index]\n",
        "                      jacobian[equation_index][species_index] = stoichiometry\n",
        "              equation_index += 1\n",
        "          # Conservation of mass\n",
        "          from scipy.special import logsumexp\n",
        "          for (log_total_concentration, conservation_equation) in conservation_equations:\n",
        "              target[equation_index] = - log_total_concentration\n",
        "              log_concs = list()\n",
        "              for (species_index, species) in enumerate(all_species):\n",
        "                  if species in conservation_equation:\n",
        "                      stoichiometry = conservation_equation[species]\n",
        "                      log_concs.append(X[species_index] + np.log(stoichiometry))\n",
        "              log_concs = np.array(log_concs)\n",
        "              logsum = logsumexp(log_concs)\n",
        "              target[equation_index] += logsum\n",
        "              for (species_index, species) in enumerate(all_species):\n",
        "                  log_concs = list()\n",
        "                  if species in conservation_equation:\n",
        "                      stoichiometry = conservation_equation[species]\n",
        "                      jacobian[equation_index, species_index] = stoichiometry * np.exp(X[species_index] - logsum)\n",
        "              equation_index += 1\n",
        "\n",
        "          return (target, jacobian)\n",
        "\n",
        "      # Construct initial guess\n",
        "      if initial_guess == 'spread':\n",
        "          # We assume that all matter is equally spread out among all species via the conservation equations\n",
        "          from scipy.misc import logsumexp\n",
        "          LOG_ZERO = -100\n",
        "          X = LOG_ZERO * np.ones([nspecies], np.float64)\n",
        "          for (species_index, species) in enumerate(all_species):\n",
        "              for (log_total_concentration, conservation_equation) in conservation_equations:\n",
        "                  log_total_stoichiometry = np.log(np.sum([stoichiometry for stoichiometry in conservation_equation.values()]))\n",
        "                  if species in conservation_equation:\n",
        "                      stoichiometry = conservation_equation[species]\n",
        "                      #X[species_index] = logsumexp([X[species_index], log_total_concentration + np.log(stoichiometry) - log_total_stoichiometry])\n",
        "                      X[species_index] = np.logaddexp(X[species_index], log_total_concentration + np.log(stoichiometry) - log_total_stoichiometry)\n",
        "      elif initial_guess == 'zero':\n",
        "          # Simple guess: All log concentrations are zero\n",
        "          X = np.zeros([nspecies], np.float64)\n",
        "      else:\n",
        "          raise ValueError('Unknown initial_guess {}'.format(initial_guess))\n",
        "\n",
        "      # Solve\n",
        "      from scipy.optimize import root\n",
        "      options = {'xtol' : tol}\n",
        "      sol = root(ftarget, X, method='lm', jac=True, tol=tol, options=options)\n",
        "      if (sol.success == False):\n",
        "          msg  = \"root-finder failed to converge:\\n\"\n",
        "          msg += str(sol)\n",
        "          raise Exception(msg)\n",
        "\n",
        "      # TODO: Ensure all constraints and conservation equations are satisfied?\n",
        "\n",
        "      log_concs = { all_species[index] : sol.x[index] for index in range(nspecies) }\n",
        "\n",
        "      return log_concs #, sol['cov_x']"
      ],
      "metadata": {
        "id": "AnsR_tTnnFY5"
      },
      "execution_count": null,
      "outputs": []
    },
    {
      "cell_type": "markdown",
      "source": [
        "## Kinetics"
      ],
      "metadata": {
        "id": "q9hypiOzn0PD"
      }
    },
    {
      "cell_type": "code",
      "execution_count": null,
      "metadata": {
        "id": "xuJl8Ebtgzyo"
      },
      "outputs": [],
      "source": [
        "def DimerBindingModel(logMtot, logStot, logItot,\n",
        "                      logKd, logK_S_M, logK_S_D, logK_S_DS, logK_I_M, logK_I_D, logK_I_DI, logK_S_DI):\n",
        "    \"\"\"\n",
        "    Compute equilibrium concentrations for a binding model in which a ligand and substrate \n",
        "    competitively binds to a monomer, dimer, or dimer complexed with a ligand.\n",
        "    \n",
        "    Parameters\n",
        "    ----------\n",
        "    logMtot : numpy array\n",
        "      Log of the total protein concentation summed over bound and unbound species\n",
        "    logStot : numpy array\n",
        "      Log of the total substrate concentation summed over bound and unbound species\n",
        "    logItot : numpy array\n",
        "      Log of the total ligand concentation summed over bound and unbound species\n",
        "    \"\"\"\n",
        "    species = ['M','D','I','S','MS','MI','DI','DI2','DS','DSI','DSS']\n",
        "    # relationships between dissociation constants due to loops \n",
        "    logKd_MS_M = logKd + logK_S_D - logK_S_M\n",
        "    logKd_MI_M = logKd + logK_I_D - logK_I_M\n",
        "    logK_I_DS = logK_I_D + logK_S_DI - logK_S_D\n",
        "\n",
        "    reactions = [(logKd, {'M':2, 'D':-1}),               # Dimerization\n",
        "                 (logKd_MS_M, {'MS':1, 'M':1, 'DS': -1}),\n",
        "                 (logK_S_M, {'M': 1, 'S':1, 'MS': -1}),  # Substrate binding\n",
        "                 (logK_S_D, {'D':1, 'S':1, 'DS': -1}),                 \n",
        "                 (logK_S_DS, {'DS':1, 'S':1, 'DSS':-1}),\n",
        "                 (logKd_MI_M, {'MI':1, 'M':1, 'DI': -1}),\n",
        "                 (logK_I_M, {'M':1, 'I':1, 'MI': -1}),   # Inhibitor binding\n",
        "                 (logK_I_D, {'D':1, 'I':1, 'DI':-1}),                \n",
        "                 (logK_I_DI, {'DI':1, 'I':1, 'DI2':-1}),             \n",
        "                 (logK_I_DS, {'DS':1, 'I':1, 'DSI':-1}), # Substrate and inhibitor binding                  \n",
        "                 (logK_S_DI, {'DI':1, 'S':1, 'DSI':-1})\n",
        "                 ]\n",
        "    log_concs = dict([(key, np.zeros(logItot.shape[0])) for key in species])\n",
        "\n",
        "    for n in range(logItot.shape[0]):\n",
        "        conservation_equations = [(logMtot[n], {'M':+1,'D':+2,'MS':+1,'MI':+1,'DI':+2,'DI2':+2,'DS':+2,'DSI': +2,'DSS':+2}), # Total protein\n",
        "                                  (logItot[n], {'I':+1, 'MI':+1, 'DI':+1, 'DI2':+2, 'DSI':+1}),                              # Total ligand\n",
        "                                  (logStot[n], {'S':+1, 'MS':+1, 'DS':+1, 'DSI':+1, 'DSS':+2})                               # Total substrate\n",
        "                                  ]\n",
        "        log_c = GeneralBindingModel.equilibrium_concentrations(reactions, conservation_equations)\n",
        "        for key in species:\n",
        "            log_concs[key][n] = log_c[key]\n",
        "    \n",
        "    return log_concs\n",
        "\n",
        "\n",
        "def ReactionRate(logMtot, logStot, logItot,\n",
        "                 logKd, logK_S_M, logK_S_D, logK_S_DS, logK_I_M, logK_I_D, logK_I_DI, logK_S_DI,\n",
        "                 kcat_MS=0., kcat_DS=0., kcat_DSI=1., kcat_DSS=1.):\n",
        "    \"\"\"\n",
        "    Reaction Rate\n",
        "      v = kcat_MS*[MS] + kcat_+DS*[DS] + kcat_DSI*[DSI] + kcat_DSS*[DSS]\n",
        "    \n",
        "    Parameters\n",
        "    ----------\n",
        "    logMtot : numpy array\n",
        "      Log of the total protein concentation summed over bound and unbound species\n",
        "    logStot : numpy array\n",
        "      Log of the total substrate concentation summed over bound and unbound species\n",
        "    logItot : numpy array\n",
        "      Log of the total ligand concentation summed over bound and unbound species      \n",
        "    \"\"\"\n",
        "\n",
        "    log_concs = DimerBindingModel(logMtot, logStot, logItot,\n",
        "                                  logKd, logK_S_M, logK_S_D, logK_S_DS, logK_I_M, logK_I_D, logK_I_DI, logK_S_DI)\n",
        "    v = kcat_MS*np.exp(log_concs['MS']) + kcat_DS*np.exp(log_concs['DS']) + kcat_DSI*np.exp(log_concs['DSI']) + kcat_DSS*np.exp(log_concs['DSS'])\n",
        "    return v\n",
        "\n",
        "def MonomerConcentration(logMtot, logStot, logItot, \n",
        "                         logKd, logK_S_M, logK_S_D, logK_S_DS, \n",
        "                         logK_I_M, logK_I_D, logK_I_DI, logK_S_DI):\n",
        "    \"\"\"\n",
        "    Response of DimerBindingModel\n",
        "      Response ~ v = kcat_MS*[MS] + kcat_+DS*[DS] + kcat_DSI*[DSI] + kcat_DSS*[DSS]\n",
        "    \n",
        "    Parameters\n",
        "    ----------\n",
        "    logMtot : numpy array\n",
        "      Log of the total protein concentation summed over bound and unbound species\n",
        "    logStot : numpy array\n",
        "      Log of the total substrate concentation summed over bound and unbound species\n",
        "    logItot : numpy array\n",
        "      Log of the total ligand concentation summed over bound and unbound species      \n",
        "    \"\"\"\n",
        "    log_concs = DimerBindingModel(logMtot, logStot, logItot,\n",
        "                                  logKd, logK_S_M, logK_S_D, logK_S_DS, \n",
        "                                  logK_I_M, logK_I_D, logK_I_DI, logK_S_DI)\n",
        "    return np.sum(np.exp([log_concs[species] for species in ['M','MI','MS']]),0)"
      ]
    },
    {
      "cell_type": "code",
      "execution_count": null,
      "metadata": {
        "id": "L6A8nXNUgzyp"
      },
      "outputs": [],
      "source": [
        "def CatalyticEfficiency(logMtot, logItot,\n",
        "                        logKd, logK_S_M, logK_S_D, logK_S_DS,\n",
        "                        logK_I_M, logK_I_D, logK_I_DI, logK_S_DI, \n",
        "                        kcat_MS=0., kcat_DS=0., kcat_DSI=1., kcat_DSS=1.,\n",
        "                        logStot = None):\n",
        "    \"\"\"\n",
        "    kcat/Km, based on the finite difference derivative\n",
        "    \n",
        "    Parameters\n",
        "    ----------\n",
        "    logMtot : numpy array\n",
        "      Log of the total protein concentation summed over bound and unbound species\n",
        "    logItot : numpy array\n",
        "      Log of the total ligand concentation summed over bound and unbound species      \n",
        "    \"\"\"\n",
        "    if logStot is None:\n",
        "        logStot = np.log(np.array([1, 2])*1E-6)\n",
        "    DeltaS = (np.exp(logStot[1])-np.exp(logStot[0]))\n",
        "\n",
        "    catalytic_efficiency = np.zeros(logItot.shape)\n",
        "    for (logItot_ind, ind) in zip(logItot, range(logItot.shape[0])):\n",
        "      v = ReactionRate(np.array([logMtot[ind], logMtot[ind]]), \n",
        "                       logStot, np.array([logItot_ind, logItot_ind]), \n",
        "                       logKd, logK_S_M, logK_S_D, logK_S_DS,\n",
        "                       logK_I_M, logK_I_D, logK_I_DI, logK_S_DI,\n",
        "                       kcat_MS, kcat_DS, kcat_DSI, kcat_DSS)\n",
        "      catalytic_efficiency[ind] = (v[-1]-v[0])/DeltaS\n",
        "    return catalytic_efficiency"
      ]
    },
    {
      "cell_type": "markdown",
      "source": [
        "## CRC"
      ],
      "metadata": {
        "id": "ZiY1aprnn2f6"
      }
    },
    {
      "cell_type": "code",
      "source": [
        "def f_curve_vec(x, R_b, R_t, x_50, H):\n",
        "    \"\"\"\n",
        "    Dose-response curve function\n",
        "    \n",
        "    Parameters:\n",
        "    ----------\n",
        "    x   : array\n",
        "          log_10 of concentration of inhibitor\n",
        "    R_b : float\n",
        "          bottom response\n",
        "    R_t : float\n",
        "          top response\n",
        "    x_50: float\n",
        "          logIC50\n",
        "    H   : float\n",
        "          hill slope\n",
        "    ----------\n",
        "    return an array of response\n",
        "    \"\"\"\n",
        "    return R_b+(R_t-R_b)/(1+10**(x*H-x_50*H))\n",
        "\n",
        "\n",
        "def parameter_estimation(data, theta=None, variances=None, itnmax=100, tol=1e-4): \n",
        "    \"\"\"\n",
        "    Fitting non-linear regression without control\n",
        "    Parameters:\n",
        "    ----------\n",
        "    data      : list of two element: x, y, c1, c2.\n",
        "                x is vector of concentration\n",
        "                y is vector of responsex and y must be same length\n",
        "    theta     : vector of 4 parameters (bottom response, top response, logIC50, hill slope)\n",
        "    ----------\n",
        "    return [theta, ASE, variance]\n",
        "    \"\"\"\n",
        "\n",
        "    # Initial value and boundary for theta\n",
        "    min_y = min(data['y'])\n",
        "    max_y = max(data['y'])\n",
        "    range_y = max_y - min_y\n",
        "\n",
        "    if theta is None:\n",
        "        theta = [min_y, max_y, data['x'][np.argmin(np.square(data['y']-np.mean(data['y'])))], 1.0]\n",
        "        upper = [min_y + 0.25*range_y, max_y + 0.25*range_y, 20, 20]\n",
        "        lower = [min_y - 0.25*range_y, max_y - 0.25*range_y, -20, -20]\n",
        "    else:\n",
        "        upper = [theta[0] + 0.25*range_y, theta[1] + 0.25*range_y, 20, 20]\n",
        "        lower = [theta[0] - 0.25*range_y, theta[1] - 0.25*range_y, -20, -20]\n",
        "\n",
        "    fit_f, var_matrix = curve_fit(f_curve_vec, xdata=np.array(data['x']), ydata=np.array(data['y']),\n",
        "                                  absolute_sigma=True, p0=theta,\n",
        "                                  bounds=(lower, upper))\n",
        "    \n",
        "    # Estimate ASE for theta\n",
        "    y_hat = f_curve_vec(data['x'], *fit_f)\n",
        "    sigma = np.sqrt(np.sum((y_hat - data['y'])**2)/(len(y_hat)-4))\n",
        "    ASE = np.sqrt(np.diag(var_matrix))*sigma #unscale_SE*sigma\n",
        "\n",
        "    mle = [fit_f, ASE, np.array([sigma**2])]\n",
        "\n",
        "    return mle\n",
        "\n",
        "\n",
        "def scaling_data(y, bottom, top):\n",
        "    \"\"\"\n",
        "    This function is used to normalize data by mean of top and bottom control\n",
        "    \n",
        "    Parameters:\n",
        "    ----------\n",
        "    y     : vector of response\n",
        "    bottom: mean of vector of control on the bottom\n",
        "    top   : mean of vector of control on the top\n",
        "    ----------\n",
        "\n",
        "    return vector of normalized response \n",
        "    \"\"\"\n",
        "    min_y = min(bottom, top)\n",
        "    max_y = max(bottom, top)\n",
        "    return (y-min_y)/abs(max_y - min_y)*100"
      ],
      "metadata": {
        "id": "cjAkicJWnqYQ"
      },
      "execution_count": null,
      "outputs": []
    },
    {
      "cell_type": "code",
      "source": [
        "def normalized_params(theta, ASE, bottom, top):\n",
        "    \"\"\"\n",
        "    This function is used to normalize some parameters by mean of top and bottom control\n",
        "    \n",
        "    Parameters:\n",
        "    ----------\n",
        "    theta : vector of bottom response, top response, x50 and hill slope\n",
        "    ASE   : vector of ASE of theta\n",
        "    bottom: mean of vector of control on the bottom\n",
        "    top   : mean of vector of control on the top\n",
        "    ----------\n",
        "\n",
        "    return vector of normalized theta and their ASE \n",
        "    \"\"\"\n",
        "    Rb = ufloat(theta[0], ASE[0])\n",
        "    Rt = ufloat(theta[1], ASE[1])\n",
        "    Rb_update = scaling_data(Rb, bottom, top)\n",
        "    Rt_update = scaling_data(Rt, bottom, top)\n",
        "    theta_update = np.array([Rb_update.n, Rt_update.n, theta[2], theta[3]])\n",
        "    ASE_update = np.array([Rb_update.s, Rt_update.s, ASE[2], ASE[3]])\n",
        "    return theta_update, ASE_update\n",
        "\n",
        "\n",
        "def plot_crc_params(data, theta=None, positive=None, negative=None, outlier_pos=None, \n",
        "                    plot_control=True, data_normalizing=False, \n",
        "                    ax=None, line_color='b', line_style = '-', label_curve='Fitting',  \n",
        "                    title_name=None, xlabel='$Log_{10}Concentration$', ylabel='Response', \n",
        "                    figure_size=(6.4, 4.8), dpi=80, outfile=None):\n",
        "    \"\"\"\n",
        "    Parameters:\n",
        "    ----------\n",
        "    data            : list of experiment information: x, y, c1, c2, n_obs, outlier_pos.\n",
        "                        x is vector of log10 of concentration\n",
        "                        y is vector of response\n",
        "                        c1 is control at bottom. c1 can be vector or None or 'None'\n",
        "                        c2 is control at top. c2 can be vector or None or 'None'\n",
        "                        n_obs is vector of nummber of replication at each concentration\n",
        "                        outlier_pos is the position of outlier detected after first fitting\n",
        "                        x and y must be same length\n",
        "    theta           : vector, if no 'theta' in data, can using this plug-in theta\n",
        "    positive        : vector, if no 'c1' in data, can using this plug-in positive control\n",
        "    negative        : vector, if no 'c2' in data, can using this plug-in negative control\n",
        "    outlier_pos     : vector, if no 'outlier_pos' in data, can using this plug-in outlier_pos\n",
        "    plot_control    : boolean, if plot_control=False, no plotting the control despite of data has the control information\n",
        "    data_normalizing: boolean, if negative and positive available, normalizing data\n",
        "    ax              : if None, generating new plot\n",
        "    line_color      : string, color of fitting line\n",
        "    line_style      : string, line_style of fitting line\n",
        "    label_curve     : string, label of fitting line\n",
        "    title_name      : string, title of the plot\n",
        "    xlabel, ylabel  : string, label of two axes of plot\n",
        "    figure_size     : (width, height) size of plot\n",
        "    dpi             : quality of plot\n",
        "    outfile         : optional, string, output file for saving plot\n",
        "    ----------\n",
        "    return the plot of curve with information of params and their ASE\n",
        "    \"\"\"\n",
        "\n",
        "    try: \n",
        "        y = data['y']\n",
        "    except:\n",
        "        y = data['response']\n",
        "\n",
        "    try:\n",
        "        x = data['x']\n",
        "    except: \n",
        "        x = data['LogConcentration']\n",
        "\n",
        "    if positive is None:\n",
        "        if 'c1' in data.index or 'Positive' in data.index:\n",
        "            try: \n",
        "                c1 = data['c1']\n",
        "            except: \n",
        "                c1 = data['Positive']\n",
        "        else:\n",
        "            c1 = None\n",
        "    else:\n",
        "        c1 = positive\n",
        "\n",
        "    if negative is None:\n",
        "        if 'c2' in data.index or 'Negative' in data.index:\n",
        "            try: \n",
        "                c2 = data['c2']\n",
        "            except: \n",
        "                c2 = data['Negative']\n",
        "        else:\n",
        "            c2 = None\n",
        "    else: \n",
        "        c2 = negative\n",
        "\n",
        "    if theta is None: \n",
        "        if 'theta' in data.index and 'ASE' in data.index:\n",
        "            theta = data['theta']\n",
        "            ASE = data['ASE']\n",
        "        else:\n",
        "            print(\"Please provide the values for 4 parameters.\")\n",
        "\n",
        "    if data_normalizing: \n",
        "        if len(c1)>=0 and len(c2)>=0:\n",
        "            y_update = scaling_data(y, np.mean(c1), np.mean(c2))\n",
        "            c1_update = scaling_data(c1, np.mean(c1), np.mean(c2))\n",
        "            c2_update = scaling_data(c2, np.mean(c1), np.mean(c2))\n",
        "            theta_update, ASE_update = normalized_params(theta, ASE, np.mean(c1), np.mean(c2))\n",
        "\n",
        "            y = y_update\n",
        "            c1 = c1_update\n",
        "            c2 = c2_update\n",
        "            theta = theta_update\n",
        "            ASE = ASE_update\n",
        "        else: \n",
        "            print(\"Please provide negative/positive controls if you want to normalize data.\")\n",
        "\n",
        "    if ax is None:\n",
        "        plt.figure(figsize=figure_size, dpi=dpi)\n",
        "        ax = plt.axes()\n",
        "\n",
        "    conc = np.linspace(min(x), max(x), num=50)\n",
        "    fitted = f_curve_vec(conc, *theta)\n",
        "\n",
        "    ax.plot(x, y, 'k.', label='Observed Data')\n",
        "    ax.plot(conc, fitted, color=line_color, linestyle=line_style, label=label_curve)\n",
        "    handles, labels = ax.get_legend_handles_labels()\n",
        "\n",
        "    ax.text(0.65, 0.7,\n",
        "            r'$R_b$: '+ str('%3.2f' %theta[0]) + ' $\\pm$ ' + str('%3.2f' %ASE[0])\n",
        "            + '\\n$R_t$: '+ str('%3.2f' %theta[1]) + ' $\\pm$ ' + str('%3.2f' %ASE[1]) \n",
        "            + '\\n$x_{50}$: '+ str('%3.2f' %theta[2]) + ' $\\pm$ ' + str('%3.2f' %ASE[2])\n",
        "            + '\\n$H$: ' + str('%3.2f' %theta[3]) + ' $\\pm$ ' + str('%3.2f' %ASE[3]), \n",
        "        fontsize=11, transform=ax.transAxes, color='k')\n",
        "\n",
        "\n",
        "    if plot_control and c1 !=\"None\" and c1 is not None:\n",
        "        ax.plot(np.repeat(max(x+0.5), len(c1)), c1, 'g^', label=\"$c_b$\")\n",
        "        handles, labels = ax.get_legend_handles_labels()\n",
        "    \n",
        "    if plot_control and c2 !=\"None\" and c2 is not None:\n",
        "        ax.plot(np.repeat(min(x-0.5), len(c2)), c2, 'gv', label=\"$c_t$\")\n",
        "        handles, labels = ax.get_legend_handles_labels()\n",
        "\n",
        "    if outlier_pos is not None:\n",
        "        ax.plot(x[outlier_pos], y[outlier_pos], 'rx')\n",
        "        handles, labels = ax.get_legend_handles_labels()\n",
        "    else: \n",
        "        if 'Outlier_Pos' in data.index and data['Outlier_Pos'] is not None and data['Outlier_Pos']!='None': \n",
        "            outlier_pos = data['Outlier_Pos']\n",
        "            ax.plot(x[outlier_pos], y[outlier_pos], 'rx')\n",
        "            handles, labels = ax.get_legend_handles_labels()\n",
        "\n",
        "    ax.set_xlabel(xlabel)\n",
        "    ax.set_ylabel(ylabel)\n",
        "\n",
        "    if title_name is not None:\n",
        "        ax.set_title(title_name)\n",
        "\n",
        "    # ax.legend(handles, labels, bbox_to_anchor=(1, 1))\n",
        "    plt.tight_layout();\n",
        "    \n",
        "    if outfile is not None: \n",
        "        plt.savefig(outfile)\n",
        "        plt.ioff()\n",
        "    else:\n",
        "        return ax"
      ],
      "metadata": {
        "id": "X22PQLxVr7do"
      },
      "execution_count": null,
      "outputs": []
    },
    {
      "cell_type": "markdown",
      "source": [
        "## Finding logItot"
      ],
      "metadata": {
        "id": "ZCOzZPXzLMLF"
      }
    },
    {
      "cell_type": "code",
      "source": [
        "def return_logItot(init_logMtot, init_logStot, kinetics_params, \n",
        "                   n_concs = 12, min_conc=1E-9, max_conc=1E3, min_percentage=1,\n",
        "                   n_points = 50):\n",
        "    \"\"\"\n",
        "    Parameters:\n",
        "    ----------\n",
        "    init_logMtot    : float, values of enzyme concentration in log scale\n",
        "    init_logStot    : float, values of substrate concentration in log scale\n",
        "    kinetics_params : list, including 8 logK and 4 kcat variables\n",
        "    n_concs         : integer, number of concentrations for each scpecies\n",
        "    min_concs       : float, minimal concentration for inhibitor\n",
        "    max_concs       : float, maximal concentration for inhibitor\n",
        "    min_percentage  : integer\n",
        "        If you want inhibitor ranges from v_max to 0.1*v_max, then you set min_percentage=10\n",
        "    ----------\n",
        "    return array of concentrations for enzyme, substrate and inhibitor\n",
        "    \"\"\"\n",
        "    [logKd, logK_S_M, logK_S_D, logK_S_DS, logK_I_M, logK_I_D, logK_I_DI, logK_S_DI, kcat_MS, kcat_DS, kcat_DSS, kcat_DSI] = kinetics_params\n",
        "    # Generate the whole curve\n",
        "    min_conc = np.log(min_conc)\n",
        "    max_conc = np.log(max_conc)\n",
        "\n",
        "    logMtot = np.ones(n_points)*init_logMtot \n",
        "    logStot = np.ones(n_points)*init_logStot \n",
        "    logItot = np.linspace(min_conc, max_conc, n_points)\n",
        "    R = ReactionRate(logMtot, logStot, logItot,\n",
        "                     logKd, logK_S_M, logK_S_D, logK_S_DS, logK_I_M, logK_I_D, logK_I_DI, logK_S_DI,\n",
        "                     kcat_MS, kcat_DS, kcat_DSS, kcat_DSI)\n",
        "    \n",
        "    # Find concentration of logItot that v = v_max\n",
        "    index_max_R = np.argmax(R)\n",
        "    conc_max_R = logItot[index_max_R]\n",
        "\n",
        "    # scaling curve\n",
        "    logItot_2 = np.linspace(logItot[index_max_R], max_conc, n_points)\n",
        "    R_2 = ReactionRate(logMtot, logStot, logItot_2,\n",
        "                       logKd, logK_S_M, logK_S_D, logK_S_DS, logK_I_M, logK_I_D, logK_I_DI, logK_S_DI,\n",
        "                       kcat_MS, kcat_DS, kcat_DSS, kcat_DSI)\n",
        "    scaling_R = scaling_data(R_2, min(R_2), max(R_2))\n",
        "\n",
        "    # Find concentration of logItot that v = 0.05 v_max\n",
        "    for tol in [0.05, 0.1, 0.5, 1, 1.5, 2, 2.5, 3]:\n",
        "        index_min_R = np.argmax(np.isclose(scaling_R, np.max(scaling_R)/100*min_percentage, rtol=tol))\n",
        "        if index_min_R != 0:\n",
        "            break\n",
        "    conc_min_R = logItot_2[index_min_R]\n",
        "\n",
        "    logItot_final = np.linspace(conc_max_R, conc_min_R, n_concs)\n",
        "    logMtot_final = np.ones(n_concs)*init_logMtot \n",
        "    logStot_final = np.ones(n_concs)*init_logStot\n",
        "\n",
        "    return logMtot_final, logStot_final, logItot_final"
      ],
      "metadata": {
        "id": "VeSIUxl0LLiF"
      },
      "execution_count": null,
      "outputs": []
    },
    {
      "cell_type": "markdown",
      "source": [
        "# Condition to sample"
      ],
      "metadata": {
        "id": "SkB9_A194imo"
      }
    },
    {
      "cell_type": "code",
      "source": [
        "parser = argparse.ArgumentParser()\n",
        "\n",
        "parser.add_argument( \"--out_dir\",               type=str, \t\t\t\tdefault=\"\")\n",
        "parser.add_argument( \"--fixed_kcat_MS\",         type=bool, \t\t\t\tdefault=True)\n",
        "parser.add_argument( \"--fixed_kcat_DS\",         type=bool, \t\t\t\tdefault=True)\n",
        "parser.add_argument( \"--two_Kds_equal\",         type=bool, \t\t\t\tdefault=False)\n",
        "\n",
        "import sys\n",
        "sys.argv=['']\n",
        "del sys\n",
        "args = parser.parse_args()"
      ],
      "metadata": {
        "id": "-QO8WNRm4h8P"
      },
      "execution_count": null,
      "outputs": []
    },
    {
      "cell_type": "code",
      "source": [
        "args.out_dir = \"/content/drive/MyDrive/MoonShot/dimer/LHS\"\n",
        "file_name = 'LHS_10K'\n",
        "\n",
        "if args.fixed_kcat_MS is False and args.fixed_kcat_DS is False: \n",
        "    file_name += '_1'\n",
        "elif args.fixed_kcat_MS is True and args.fixed_kcat_DS is False: \n",
        "    file_name += '_2'\n",
        "else: \n",
        "    file_name += '_3'\n",
        "\n",
        "if args.two_Kds_equal: file_name += 'B'\n",
        "else: file_name += 'A'\n",
        "\n",
        "print(file_name)"
      ],
      "metadata": {
        "id": "jevcQwwy4uwP"
      },
      "execution_count": null,
      "outputs": []
    },
    {
      "cell_type": "markdown",
      "source": [
        "# LHS"
      ],
      "metadata": {
        "id": "uUH5kN73ctvn"
      }
    },
    {
      "cell_type": "code",
      "source": [
        "logK_min = -20\n",
        "logK_max = 0\n",
        "kcat_min = 0\n",
        "kcat_max = 1\n",
        "\n",
        "if args.two_Kds_equal:\n",
        "    if args.fixed_kcat_MS is False and args.fixed_kcat_DS is False: \n",
        "        params_name = ['logKd', 'logK_S_M', 'logK_S_D', 'logK_S_DS', \n",
        "                      'logK_I_M', 'logK_I_D', 'logK_S_DI',\n",
        "                      'kcat_MS', 'kcat_DS', 'kcat_DSI', 'kcat_DSS']\n",
        "        l_bounds = np.concatenate([np.repeat(logK_min, 7), np.repeat(kcat_min, 4)])\n",
        "        u_bounds = np.concatenate([np.repeat(logK_max, 7), np.repeat(kcat_max, 4)])\n",
        "    elif args.fixed_kcat_MS is True and args.fixed_kcat_DS is False: \n",
        "        params_name = ['logKd', 'logK_S_M', 'logK_S_D', 'logK_S_DS', \n",
        "                      'logK_I_M', 'logK_I_D', 'logK_S_DI',\n",
        "                      'kcat_DS', 'kcat_DSI', 'kcat_DSS']\n",
        "        l_bounds = np.concatenate([np.repeat(logK_min, 7), np.repeat(kcat_min, 3)])\n",
        "        u_bounds = np.concatenate([np.repeat(logK_max, 7), np.repeat(kcat_max, 3)])\n",
        "    else: \n",
        "        params_name = ['logKd', 'logK_S_M', 'logK_S_D', 'logK_S_DS', \n",
        "                      'logK_I_M', 'logK_I_D', 'logK_S_DI',\n",
        "                      'kcat_DSI', 'kcat_DSS']\n",
        "        l_bounds = np.concatenate([np.repeat(logK_min, 7), np.repeat(kcat_min, 2)])\n",
        "        u_bounds = np.concatenate([np.repeat(logK_max, 7), np.repeat(kcat_max, 2)])\n",
        "else:\n",
        "    if args.fixed_kcat_MS is False and args.fixed_kcat_DS is False: \n",
        "        params_name = ['logKd', 'logK_S_M', 'logK_S_D', 'logK_S_DS', \n",
        "                      'logK_I_M', 'logK_I_D', 'logK_I_DI', 'logK_S_DI',\n",
        "                      'kcat_MS', 'kcat_DS', 'kcat_DSI', 'kcat_DSS']\n",
        "        l_bounds = np.concatenate([np.repeat(logK_min, 8), np.repeat(kcat_min, 4)])\n",
        "        u_bounds = np.concatenate([np.repeat(logK_max, 8), np.repeat(kcat_max, 4)])\n",
        "    elif args.fixed_kcat_MS is True and args.fixed_kcat_DS is False: \n",
        "        params_name = ['logKd', 'logK_S_M', 'logK_S_D', 'logK_S_DS', \n",
        "                      'logK_I_M', 'logK_I_D', 'logK_I_DI', 'logK_S_DI',\n",
        "                      'kcat_DS', 'kcat_DSI', 'kcat_DSS']\n",
        "        l_bounds = np.concatenate([np.repeat(logK_min, 8), np.repeat(kcat_min, 3)])\n",
        "        u_bounds = np.concatenate([np.repeat(logK_max, 8), np.repeat(kcat_max, 3)])\n",
        "    else: \n",
        "        params_name = ['logKd', 'logK_S_M', 'logK_S_D', 'logK_S_DS', \n",
        "                      'logK_I_M', 'logK_I_D', 'logK_I_DI', 'logK_S_DI',\n",
        "                      'kcat_DSI', 'kcat_DSS']\n",
        "        l_bounds = np.concatenate([np.repeat(logK_min, 8), np.repeat(kcat_min, 2)])\n",
        "        u_bounds = np.concatenate([np.repeat(logK_max, 8), np.repeat(kcat_max, 2)])\n",
        "\n",
        "sampler = qmc.LatinHypercube(d=len(params_name))\n",
        "sample = sampler.random(n=10000)\n",
        "\n",
        "# Samples can be scaled to bounds\n",
        "scaled_sample = qmc.scale(sample, l_bounds, u_bounds)"
      ],
      "metadata": {
        "id": "zjjtbUuvc1KS"
      },
      "execution_count": null,
      "outputs": []
    },
    {
      "cell_type": "code",
      "source": [
        "qmc.discrepancy(sample)"
      ],
      "metadata": {
        "id": "OsbwQccZeWEC"
      },
      "execution_count": null,
      "outputs": []
    },
    {
      "cell_type": "code",
      "source": [
        "df = pd.DataFrame(scaled_sample.T, index=params_name).T"
      ],
      "metadata": {
        "id": "q_PmKWGZgzt5"
      },
      "execution_count": null,
      "outputs": []
    },
    {
      "cell_type": "code",
      "source": [
        "df.head()"
      ],
      "metadata": {
        "id": "Rjz5is--hbHM"
      },
      "execution_count": null,
      "outputs": []
    },
    {
      "cell_type": "code",
      "source": [
        "os.chdir(args.out_dir)\n",
        "df.to_csv(file_name+\".csv\")"
      ],
      "metadata": {
        "id": "W8Rrr4dPgbky"
      },
      "execution_count": null,
      "outputs": []
    },
    {
      "cell_type": "markdown",
      "source": [
        "# Hill slope estimation"
      ],
      "metadata": {
        "id": "8JRzhSfdHjSk"
      }
    },
    {
      "cell_type": "markdown",
      "metadata": {
        "id": "1uI0kaanlRW0"
      },
      "source": [
        "## Test"
      ]
    },
    {
      "cell_type": "code",
      "source": [
        "logKd = -0.005 # Dimerization\n",
        "# Substrate binding\n",
        "logK_S_DS = -13.853\n",
        "logK_S_M = -6.015\n",
        "logK_S_D = -9.312\n",
        "# Inhibitor binding\n",
        "logK_I_M = 0\n",
        "logK_I_D = -17.669\n",
        "logK_I_DI = -18.141\n",
        "# Binding of substrate and inhibitor\n",
        "logK_S_DI = -13.967\n",
        "\n",
        "kcat_MS = 0\n",
        "kcat_DS = 0\n",
        "kcat_DSI = 0.45\n",
        "kcat_DSS = 0.38"
      ],
      "metadata": {
        "id": "xQzNbl_xpLpt"
      },
      "execution_count": null,
      "outputs": []
    },
    {
      "cell_type": "code",
      "execution_count": null,
      "metadata": {
        "id": "A1MOLNVY5wO6"
      },
      "outputs": [],
      "source": [
        "n_points = 50\n",
        "n_concs = 12\n",
        "min_conc = np.log(1E-9)\n",
        "max_conc = np.log(1)\n",
        "min_percentage=1\n",
        "\n",
        "logMtot = np.array([np.log(10E-6)]*n_points) \n",
        "logStot = np.array([np.log(0.25E-3)]*n_points) \n",
        "logItot = np.linspace(min_conc, max_conc, n_points)"
      ]
    },
    {
      "cell_type": "code",
      "execution_count": null,
      "metadata": {
        "id": "bEGJSyGv5wO8"
      },
      "outputs": [],
      "source": [
        "R = ReactionRate(logMtot, logStot, logItot,\n",
        "                 logKd, logK_S_M, logK_S_D, logK_S_DS, logK_I_M, logK_I_D, logK_I_DI, logK_S_DI,\n",
        "                 kcat_MS, kcat_DS, kcat_DSS, kcat_DSI)\n",
        "plt.plot(logItot, R, \".-\");"
      ]
    },
    {
      "cell_type": "code",
      "source": [
        "index_max_R = np.argmax(R)\n",
        "conc_max_R = logItot[index_max_R]\n",
        "\n",
        "logItot = np.linspace(logItot[index_max_R], max_conc, n_points)\n",
        "R = ReactionRate(logMtot, logStot, logItot,\n",
        "                 logKd, logK_S_M, logK_S_D, logK_S_DS, logK_I_M, logK_I_D, logK_I_DI, logK_S_DI,\n",
        "                 kcat_MS, kcat_DS, kcat_DSS, kcat_DSI)"
      ],
      "metadata": {
        "id": "CF08BeibD8h8"
      },
      "execution_count": null,
      "outputs": []
    },
    {
      "cell_type": "code",
      "source": [
        "scaling_R = scaling_data(R, min(R), max(R))\n",
        "index_min_R = np.argmax(np.isclose(scaling_R, np.max(scaling_R)/100*min_percentage, rtol=1e-1))\n",
        "conc_min_R = logItot[index_min_R]\n",
        "logItot_2 = np.linspace(conc_max_R, conc_min_R, n_concs)"
      ],
      "metadata": {
        "id": "KLGBEU1HyiVn"
      },
      "execution_count": null,
      "outputs": []
    },
    {
      "cell_type": "code",
      "source": [
        "R_2 = ReactionRate(logMtot, logStot, logItot_2,\n",
        "                   logKd, logK_S_M, logK_S_D, logK_S_DS, logK_I_M, logK_I_D, logK_I_DI, logK_S_DI,\n",
        "                   kcat_MS, kcat_DS, kcat_DSS, kcat_DSI)\n",
        "plt.plot(logItot, R, \".-\");\n",
        "plt.plot(logItot_2, R_2, \"--\");"
      ],
      "metadata": {
        "id": "diE4M63-p1rS"
      },
      "execution_count": null,
      "outputs": []
    },
    {
      "cell_type": "code",
      "source": [
        "data = {}\n",
        "data['x'] = np.log10(np.exp(logItot_2))\n",
        "data['y'] = scaling_data(R_2, min(R_2), max(R_2))\n",
        "\n",
        "[theta, ASE, var] = parameter_estimation(data)\n",
        "[R_b, R_t, x50, H] = theta"
      ],
      "metadata": {
        "id": "sQarup0uqwPM"
      },
      "execution_count": null,
      "outputs": []
    },
    {
      "cell_type": "code",
      "source": [
        "temp = np.linspace(min(data['x']), max(data['x']), 50)\n",
        "plt.plot(data['x'], data['y'], \".\")\n",
        "plt.plot(temp, f_curve_vec(temp, *theta), \"-\");\n",
        "print(H)"
      ],
      "metadata": {
        "id": "BIcGzOOEuZGu"
      },
      "execution_count": null,
      "outputs": []
    },
    {
      "cell_type": "markdown",
      "source": [
        "## Example"
      ],
      "metadata": {
        "id": "WL8laeb1Hus6"
      }
    },
    {
      "cell_type": "code",
      "source": [
        "logKd = -0.005 # Dimerization\n",
        "# Substrate binding\n",
        "logK_S_DS = -13.853\n",
        "logK_S_M = -6.015\n",
        "logK_S_D = -9.312\n",
        "# Inhibitor binding\n",
        "logK_I_M = 0\n",
        "logK_I_D = -17.669\n",
        "logK_I_DI = -18.141\n",
        "# Binding of substrate and inhibitor\n",
        "logK_S_DI = -13.967\n",
        "\n",
        "kcat_MS = 0\n",
        "kcat_DS = 0\n",
        "kcat_DSI = 0.45\n",
        "kcat_DSS = 0.38\n",
        "\n",
        "init_logMtot = np.log(1E-6) # Notice the unit is log scale\n",
        "init_logStot = np.log(0.25E-3) # Notice the unit is log scale\n",
        "\n",
        "params = [logKd, logK_S_M, logK_S_D, logK_S_DS, logK_I_M, logK_I_D, logK_I_DI, logK_S_DI, kcat_MS, kcat_DS, kcat_DSS, kcat_DSI]"
      ],
      "metadata": {
        "id": "eYxQmNA_Hus6"
      },
      "execution_count": null,
      "outputs": []
    },
    {
      "cell_type": "code",
      "source": [
        "logMtot = np.array([np.log(10E-6)]*50) \n",
        "logStot = np.array([np.log(0.25E-3)]*50) \n",
        "logItot = np.linspace(np.log(1E-9), np.log(1), 50)\n",
        "\n",
        "R = ReactionRate(logMtot, logStot, logItot,\n",
        "                 logKd, logK_S_M, logK_S_D, logK_S_DS, logK_I_M, logK_I_D, logK_I_DI, logK_S_DI,\n",
        "                 kcat_MS, kcat_DS, kcat_DSS, kcat_DSI)\n",
        "plt.plot(logItot, R, \".-\");"
      ],
      "metadata": {
        "id": "x74rJWiONFTJ"
      },
      "execution_count": null,
      "outputs": []
    },
    {
      "cell_type": "code",
      "source": [
        "[logMtot, logStot, logItot] = return_logItot(init_logMtot, init_logStot, params)\n",
        "v_observed = ReactionRate(logMtot, logStot, logItot,\n",
        "                          logKd, logK_S_M, logK_S_D, logK_S_DS, logK_I_M, logK_I_D, logK_I_DI, logK_S_DI,\n",
        "                          kcat_MS, kcat_DS, kcat_DSS, kcat_DSI)\n",
        "# Create data for CRC fitting\n",
        "data = {}\n",
        "data['x'] = np.log10(np.exp(logItot))\n",
        "data['y'] = scaling_data(v_observed, min(v_observed), max(v_observed))\n",
        "# CRC fitting\n",
        "[theta, ASE, var] = parameter_estimation(data)\n",
        "[R_b, R_t, x50, H] = theta\n",
        "# Plotting\n",
        "temp = np.linspace(min(data['x']), max(data['x']), 50)\n",
        "plt.plot(data['x'], data['y'], \".\")\n",
        "plt.plot(temp, f_curve_vec(temp, *theta), \"-\");\n",
        "print(H)"
      ],
      "metadata": {
        "id": "VhmVK4BXJ4X9"
      },
      "execution_count": null,
      "outputs": []
    },
    {
      "cell_type": "markdown",
      "source": [
        "## LHS"
      ],
      "metadata": {
        "id": "2gUnkhQIfFjm"
      }
    },
    {
      "cell_type": "code",
      "source": [
        "os.chdir(\"/content/drive/MyDrive/MoonShot/dimer/LHS\")\n",
        "\n",
        "# Read the CSV file\n",
        "LHS_file = file_name+'.csv'\n",
        "df = pd.read_csv(LHS_file, index_col=0)\n",
        "df.head()"
      ],
      "metadata": {
        "id": "Qb23qwLrfTHF"
      },
      "execution_count": null,
      "outputs": []
    },
    {
      "cell_type": "code",
      "source": [
        "if args.two_Kds_equal:\n",
        "    df.insert(6, 'logK_I_DI', df.logK_I_D)\n",
        "\n",
        "# rate parameters\n",
        "if args.fixed_kcat_MS: \n",
        "    df.insert(8, 'kcat_MS', np.zeros(len(df)))\n",
        "\n",
        "if args.fixed_kcat_DS: \n",
        "    df.insert(9, 'kcat_DS', np.zeros(len(df)))\n",
        "\n",
        "df.head()"
      ],
      "metadata": {
        "id": "nKsPQ1isLBWz"
      },
      "execution_count": null,
      "outputs": []
    },
    {
      "cell_type": "code",
      "source": [
        "hill_slopes = []\n",
        "\n",
        "init_logMtot = np.log(10E-6) # Notice the unit is log scale\n",
        "init_logStot = np.log(0.25E-3) # Notice the unit is log scale\n",
        "logItot_array = []\n",
        "\n",
        "# Iterate through each row of the DataFrame\n",
        "for index, row in df.iterrows():\n",
        "    logKd = row.logKd\n",
        "    # Substrate binding to enzyme\n",
        "    logK_S_M = row.logK_S_M\n",
        "    logK_S_D = row.logK_S_D\n",
        "    logK_S_DI = row.logK_S_DI\n",
        "    logK_S_DS = row.logK_S_DS\n",
        "    # Inhibitor binding to enzyme\n",
        "    logK_I_M = row.logK_I_M\n",
        "    logK_I_D = row.logK_I_D\n",
        "    logK_I_DI = row.logK_I_DI\n",
        "    # rate parameters\n",
        "    kcat_MS = row.kcat_MS\n",
        "    kcat_DS = row.kcat_DS\n",
        "    kcat_DSI = row.kcat_DSI\n",
        "    kcat_DSS = row.kcat_DSS\n",
        "\n",
        "    params = [logKd, logK_S_M, logK_S_D, logK_S_DS, logK_I_M, logK_I_D, logK_I_DI, logK_S_DI, kcat_MS, kcat_DS, kcat_DSS, kcat_DSI]\n",
        "\n",
        "    # Calculate the predicted reaction rate\n",
        "    [logMtot, logStot, logItot] = return_logItot(init_logMtot, init_logStot, params)\n",
        "    if len(np.unique(logItot))==1:\n",
        "        [logMtot, logStot, logItot] = return_logItot(init_logMtot, init_logStot, params, n_points=200)\n",
        "    \n",
        "    logItot_array.append(logItot)\n",
        "    v_observed = ReactionRate(logMtot, logStot, logItot, *params)\n",
        "\n",
        "    # Create data for CRC fitting\n",
        "    data = {}\n",
        "    data['x'] = np.log10(np.exp(logItot))\n",
        "    data['y'] = scaling_data(v_observed, min(v_observed), max(v_observed))\n",
        "    \n",
        "    # CRC fitting\n",
        "    try:\n",
        "        [theta, ASE, var] = parameter_estimation(data)\n",
        "        [R_b, R_t, x50, H] = theta\n",
        "        # Add the hill slope to the list of slopes\n",
        "        hill_slopes.append(H)\n",
        "    except:\n",
        "        print(\"Cannot find the logItot\")\n",
        "        hill_slopes.append(0)\n",
        "\n",
        "    if index % 1000 == 0:\n",
        "        print(index)"
      ],
      "metadata": {
        "id": "YaMnw_Wzfwrc"
      },
      "execution_count": null,
      "outputs": []
    },
    {
      "cell_type": "code",
      "source": [
        "max(hill_slopes)"
      ],
      "metadata": {
        "id": "yrN9D6Mmt7gf"
      },
      "execution_count": null,
      "outputs": []
    },
    {
      "cell_type": "code",
      "source": [
        "np.where(np.isclose(np.array(hill_slopes), 2, rtol=0.5))\n",
        "# np.where(np.isclose(np.array(hill_slopes), 0.75, rtol=0.01))\n",
        "# np.where(np.isclose(np.array(hill_slopes), 0.2, rtol=0.1))"
      ],
      "metadata": {
        "id": "bgZzehgcZgMR"
      },
      "execution_count": null,
      "outputs": []
    },
    {
      "cell_type": "code",
      "source": [
        "for i in range(10):\n",
        "    fig = plt.figure(figsize=(5, 4))\n",
        "    logKd = row.logKd\n",
        "    # Substrate binding to enzyme\n",
        "    logK_S_M = row.logK_S_M\n",
        "    logK_S_D = row.logK_S_D\n",
        "    logK_S_DI = row.logK_S_DI\n",
        "    logK_S_DS = row.logK_S_DS\n",
        "    # Inhibitor binding to enzyme\n",
        "    logK_I_M = row.logK_I_M\n",
        "    logK_I_D = row.logK_I_D\n",
        "    logK_I_DI = row.logK_I_DI\n",
        "    # rate parameters\n",
        "    kcat_MS = row.kcat_MS\n",
        "    kcat_DS = row.kcat_DS\n",
        "    kcat_DSI = row.kcat_DSI\n",
        "    kcat_DSS = row.kcat_DSS\n",
        "    params = [logKd, logK_S_M, logK_S_D, logK_S_DS, logK_I_M, logK_I_D, logK_I_DI, logK_S_DI, kcat_MS, kcat_DS, kcat_DSS, kcat_DSI]\n",
        "\n",
        "    # Calculate the predicted reaction rate\n",
        "    [logMtot, logStot, logItot] = return_logItot(init_logMtot, init_logStot, params)\n",
        "    if len(np.unique(logItot))==1:\n",
        "        [logMtot, logStot, logItot] = return_logItot(init_logMtot, init_logStot, params, n_points=200)\n",
        "\n",
        "    v_observed = ReactionRate(logMtot, logStot, logItot, *params)\n",
        "\n",
        "    # Create data for CRC fitting\n",
        "    data = {}\n",
        "    data['x'] = np.log10(np.exp(logItot))\n",
        "    data['y'] = scaling_data(v_observed, min(v_observed), max(v_observed))\n",
        "    # CRC fitting\n",
        "    [theta, ASE, var] = parameter_estimation(data)\n",
        "    [R_b, R_t, x50, H] = theta\n",
        "    # Plotting\n",
        "    temp = np.linspace(min(data['x']), max(data['x']), 50)\n",
        "\n",
        "    plt.plot(data['x'], data['y'], \".\")\n",
        "    plt.plot(temp, f_curve_vec(temp, *theta), \"-\")\n",
        "    plt.text(-5, 20, r'$H$: ' + str('%3.2f' %theta[3]), fontsize=11, color='k');"
      ],
      "metadata": {
        "id": "QJ8AGgD4ZqUx"
      },
      "execution_count": null,
      "outputs": []
    },
    {
      "cell_type": "code",
      "source": [
        "df['hill'] = hill_slopes"
      ],
      "metadata": {
        "id": "tpanWGNvhkib"
      },
      "execution_count": null,
      "outputs": []
    },
    {
      "cell_type": "code",
      "source": [
        "file_name"
      ],
      "metadata": {
        "id": "EPQNfUHNY-qM"
      },
      "execution_count": null,
      "outputs": []
    },
    {
      "cell_type": "code",
      "source": [
        "os.chdir(args.out_dir)\n",
        "df.to_csv(file_name+\"_Hill.csv\", index=False)"
      ],
      "metadata": {
        "id": "cY9CG4hlkEES"
      },
      "execution_count": null,
      "outputs": []
    },
    {
      "cell_type": "code",
      "source": [
        "logItot = pd.DataFrame(logItot_array)\n",
        "logItot.to_csv(file_name+\"_logItot.csv\", index=False)"
      ],
      "metadata": {
        "id": "SmUKG5RaoHhs"
      },
      "execution_count": null,
      "outputs": []
    },
    {
      "cell_type": "markdown",
      "source": [
        "# Analysis"
      ],
      "metadata": {
        "id": "CrzVitvJXtJ9"
      }
    },
    {
      "cell_type": "code",
      "source": [
        "os.chdir(args.out_dir)\n",
        "\n",
        "# Read the CSV file\n",
        "LHS_file = file_name+'_Hill.csv'\n",
        "df = pd.read_csv(LHS_file, header=0)\n",
        "df.head()"
      ],
      "metadata": {
        "id": "8sYLJVgfXtAv"
      },
      "execution_count": null,
      "outputs": []
    },
    {
      "cell_type": "markdown",
      "source": [
        "## Extract hill ~ 2"
      ],
      "metadata": {
        "id": "CnVWP-Rn1f5r"
      }
    },
    {
      "cell_type": "code",
      "source": [
        "df_hill_2 = df.iloc[np.where((df.hill>1.5)*(df.hill<2.5))[0], :]"
      ],
      "metadata": {
        "id": "Kr-3Kv8i1428"
      },
      "execution_count": null,
      "outputs": []
    },
    {
      "cell_type": "code",
      "source": [
        "df_hill_2 = df_hill_2.reset_index(drop=True)\n",
        "df_hill_2.head()"
      ],
      "metadata": {
        "id": "Kbkrhcti1fNM"
      },
      "execution_count": null,
      "outputs": []
    },
    {
      "cell_type": "code",
      "source": [
        "os.chdir(\"/content/drive/MyDrive/MoonShot/dimer/LHS\")\n",
        "df_hill_2.to_csv(file_name+\"_Hill_2.csv\", index=False)"
      ],
      "metadata": {
        "id": "zYUagU6b4JyB"
      },
      "execution_count": null,
      "outputs": []
    },
    {
      "cell_type": "markdown",
      "source": [
        "## Violin plot"
      ],
      "metadata": {
        "id": "sh5SVzfTI4b2"
      }
    },
    {
      "cell_type": "code",
      "source": [
        "df_filter = df\n",
        "# df_filter = df_filter[df_filter.logK_I_D - df_filter.logK_I_DI > 0]\n",
        "df_filter = df_filter[df_filter.hill<.75]\n",
        "df_filter = df_filter.reset_index()\n",
        "len(df_filter)"
      ],
      "metadata": {
        "id": "V6yTtOQetb1B"
      },
      "execution_count": null,
      "outputs": []
    },
    {
      "cell_type": "code",
      "source": [
        "df_filter = df\n",
        "df_filter = df_filter[df_filter.logK_I_D - df_filter.logK_I_DI > 0]\n",
        "df_filter = df_filter[df_filter.hill>1.5]\n",
        "df_filter = df_filter.reset_index()\n",
        "len(df_filter)"
      ],
      "metadata": {
        "id": "3g3BqG9uYYyN"
      },
      "execution_count": null,
      "outputs": []
    },
    {
      "cell_type": "code",
      "source": [
        "# data = df_filter\n",
        "# n_expt = len(data)\n",
        "# params_name = ['logKd', 'logK_S_M', 'logK_S_D', 'logK_S_DS', 'logK_I_M', 'logK_I_D', 'logK_I_DI', 'logK_S_DI']\n",
        "# for n, name in enumerate(params_name): \n",
        "#     plt.plot(data[name], (n+1)*np.ones(n_expt), '.')\n",
        "# plt.yticks(range(1, len(params_name)+1), params_name)\n",
        "# plt.xlim(-18, -2);"
      ],
      "metadata": {
        "id": "bXR7PS-6hmg8"
      },
      "execution_count": null,
      "outputs": []
    },
    {
      "cell_type": "code",
      "source": [
        "data = df_filter\n",
        "n_expt = len(data)\n",
        "params_name = ['logKd', 'logK_S_M', 'logK_S_D', 'logK_S_DS', 'logK_I_M', 'logK_I_D', 'logK_I_DI', 'logK_S_DI']\n",
        "temp = []\n",
        "for name in params_name: \n",
        "    temp.append(df_filter[name])\n",
        "temp = np.concatenate(temp)\n",
        "\n",
        "temp_2 = pd.DataFrame([np.repeat(params_name, n_expt), temp], \n",
        "                      index=['Parameters', 'Log_Values']).T\n",
        "\n",
        "sns.violinplot(x=temp_2.Parameters, y=temp_2.Log_Values.astype(float))\n",
        "plt.tight_layout();"
      ],
      "metadata": {
        "id": "kR2MD3l7UYKJ"
      },
      "execution_count": null,
      "outputs": []
    },
    {
      "cell_type": "code",
      "source": [
        "# data = df_filter\n",
        "# n_expt = len(data)\n",
        "# params_name = ['kcat_MS', 'kcat_DS', 'kcat_DSI', 'kcat_DSS']\n",
        "# for n, name in enumerate(params_name): \n",
        "#     plt.plot(data[name], (n+1)*np.ones(n_expt), '.')\n",
        "# plt.yticks(range(1, len(params_name)+1), params_name)\n",
        "# plt.xlim(0, 35);"
      ],
      "metadata": {
        "id": "51Z0mxuHl0Nr"
      },
      "execution_count": null,
      "outputs": []
    },
    {
      "cell_type": "code",
      "source": [
        "data = df_filter\n",
        "n_expt = len(data)\n",
        "params_name = ['kcat_MS', 'kcat_DS', 'kcat_DSI', 'kcat_DSS']\n",
        "temp = []\n",
        "for name in params_name: \n",
        "    temp.append(df_filter[name])\n",
        "temp = np.concatenate(temp)\n",
        "\n",
        "temp_2 = pd.DataFrame([np.repeat(params_name, n_expt), temp], \n",
        "                      index=['Parameters', 'Values']).T\n",
        "\n",
        "sns.violinplot(x=temp_2.Parameters, y=temp_2.Values.astype(float))\n",
        "plt.tight_layout();"
      ],
      "metadata": {
        "id": "LzT6A2toerwO"
      },
      "execution_count": null,
      "outputs": []
    },
    {
      "cell_type": "markdown",
      "source": [
        "## PCA"
      ],
      "metadata": {
        "id": "gZKsQFnNIz5d"
      }
    },
    {
      "cell_type": "markdown",
      "source": [
        "https://builtin.com/machine-learning/pca-in-python"
      ],
      "metadata": {
        "id": "l3i3WWBNI06F"
      }
    },
    {
      "cell_type": "code",
      "source": [
        "group = []\n",
        "for index in range(len(df)):\n",
        "    hill_values = df.hill[index]\n",
        "    if hill_values > 1.5: group.append(\"High\")\n",
        "    elif (hill_values>0.9) and (hill_values<1.1): group.append(\"Near_one\")\n",
        "    elif hill_values < 0.75: group.append(\"Low\")\n",
        "    else: group.append(\"No\")"
      ],
      "metadata": {
        "id": "P3hZwRRhq_3d"
      },
      "execution_count": null,
      "outputs": []
    },
    {
      "cell_type": "code",
      "source": [
        "params_name = ['logKd', 'logK_S_M', 'logK_S_D', 'logK_S_DS', 'logK_I_M', 'logK_I_D', 'logK_I_DI', 'logK_S_DI',\n",
        "               'kcat_MS', 'kcat_DS', 'kcat_DSI', 'kcat_DSS']\n",
        "group_data = df[params_name]\n",
        "# group_data.insert(len(params_name), \"Group\", np.array(group).T)"
      ],
      "metadata": {
        "id": "a41D1XS5rn4I"
      },
      "execution_count": null,
      "outputs": []
    },
    {
      "cell_type": "code",
      "source": [
        "from sklearn.decomposition import PCA\n",
        "from sklearn.preprocessing import StandardScaler\n",
        "\n",
        "# Standardizing the features\n",
        "x = StandardScaler().fit_transform(group_data)\n",
        "\n",
        "n_PC = 10\n",
        "pca = PCA(n_components=n_PC)\n",
        "principalComponents = pca.fit_transform(x)\n",
        "\n",
        "principalDf = pd.DataFrame(data=principalComponents, columns = list(['PC'+str(i+1) for i in range(n_PC)]))\n",
        "principalDf.insert(n_PC, \"Group\", np.array(group).T)\n",
        "# finalDf = pd.concat([principalDf, np.array(group).T, axis = 1)\n",
        "finalDf = principalDf"
      ],
      "metadata": {
        "id": "_ld82pv9I06G"
      },
      "execution_count": null,
      "outputs": []
    },
    {
      "cell_type": "code",
      "source": [
        "fig = plt.figure(figsize = (5,5))\n",
        "ax = fig.add_subplot(1,1,1) \n",
        "ax.set_xlabel('PC1', fontsize = 15)\n",
        "ax.set_ylabel('PC2', fontsize = 15)\n",
        "ax.set_title('2 component PCA', fontsize = 16)\n",
        "\n",
        "targets = ['High', 'Low', 'Near_One']\n",
        "colors = ['r', 'g', 'b', 'k']\n",
        "for target, color in zip(targets,colors):\n",
        "    indicesToKeep = finalDf['Group'] == target\n",
        "    ax.scatter(finalDf.loc[indicesToKeep, 'PC1'], finalDf.loc[indicesToKeep, 'PC2'], \n",
        "               c = color, s = 5)\n",
        "ax.legend(targets)\n",
        "ax.grid()"
      ],
      "metadata": {
        "id": "u0RteVJkI06G"
      },
      "execution_count": null,
      "outputs": []
    },
    {
      "cell_type": "markdown",
      "source": [
        "# Multiple condition analysis"
      ],
      "metadata": {
        "id": "1KN5GCa_MI2s"
      }
    },
    {
      "cell_type": "code",
      "source": [
        "parser = argparse.ArgumentParser()\n",
        "\n",
        "parser.add_argument( \"--out_dir\",               type=str, \t\t\t\tdefault=\"\")\n",
        "parser.add_argument( \"--two_Kds_equal\",         type=bool, \t\t\t\tdefault=False)\n",
        "\n",
        "import sys\n",
        "sys.argv=['']\n",
        "del sys\n",
        "args = parser.parse_args()"
      ],
      "metadata": {
        "id": "ynNTTUtMMYNI"
      },
      "execution_count": null,
      "outputs": []
    },
    {
      "cell_type": "code",
      "source": [
        "args.out_dir = \"/content/drive/MyDrive/MoonShot/dimer/LHS\"\n",
        "os.chdir(args.out_dir)\n",
        "file_name = 'LHS_10K'\n",
        "\n",
        "if args.two_Kds_equal:\n",
        "    file_name_1 = file_name+'_1B'\n",
        "    file_name_2 = file_name+'_2B'\n",
        "    file_name_3 = file_name+'_3B'\n",
        "else: \n",
        "    file_name_1 = file_name+'_1A'\n",
        "    file_name_2 = file_name+'_2A'\n",
        "    file_name_3 = file_name+'_3A'"
      ],
      "metadata": {
        "id": "1IMVgtegMYNJ"
      },
      "execution_count": null,
      "outputs": []
    },
    {
      "cell_type": "code",
      "source": [
        "# Read the CSV file\n",
        "df_1 = pd.read_csv(file_name_1+'_Hill.csv')#, index_col=0)\n",
        "df_2 = pd.read_csv(file_name_2+'_Hill.csv')#, index_col=0)\n",
        "df_3 = pd.read_csv(file_name_3+'_Hill.csv')#, index_col=0)\n",
        "\n",
        "if args.two_Kds_equal:\n",
        "    df_1.insert(6, 'logK_I_DI', df_1.logK_I_D)\n",
        "    df_2.insert(6, 'logK_I_DI', df_2.logK_I_D)\n",
        "    df_3.insert(6, 'logK_I_DI', df_3.logK_I_D)\n",
        "\n",
        "# # rate parameters\n",
        "\n",
        "if 'kcat_MS' not in df_2.columns:\n",
        "    df_2.insert(8, 'kcat_MS', np.zeros(len(df_2)))\n",
        "if 'kcat_MS' not in df_3.columns:\n",
        "    df_3.insert(8, 'kcat_MS', np.zeros(len(df_3)))\n",
        "if 'kcat_DS' not in df_3.columns:\n",
        "    df_3.insert(9, 'kcat_DS', np.zeros(len(df_3)))"
      ],
      "metadata": {
        "id": "Hz6IMEKkMSyG"
      },
      "execution_count": null,
      "outputs": []
    },
    {
      "cell_type": "markdown",
      "source": [
        "## 1D Histogram"
      ],
      "metadata": {
        "id": "2XxMWzhpN2vM"
      }
    },
    {
      "cell_type": "code",
      "source": [
        "def filter_1(df):\n",
        "    df_filter = df\n",
        "    df_filter = df_filter[df_filter.logK_I_D - df_filter.logK_I_DI > 0]\n",
        "    df_filter = df_filter[df_filter.hill>1.5]\n",
        "    df_filter = df_filter.reset_index()\n",
        "    return df_filter\n",
        "\n",
        "def filter_2(df):\n",
        "    df_filter = df\n",
        "    df_filter = df_filter[df_filter.logK_I_D - df_filter.logK_I_DI > 0]\n",
        "    df_filter = df_filter[df_filter.hill<0.75]\n",
        "    df_filter = df_filter.reset_index()\n",
        "    return df_filter"
      ],
      "metadata": {
        "id": "1cmX0GpPPU7C"
      },
      "execution_count": null,
      "outputs": []
    },
    {
      "cell_type": "code",
      "source": [
        "params_name = ['logKd', 'logK_S_M', 'logK_S_D', 'logK_S_DS', \n",
        "               'logK_I_M', 'logK_I_D', 'logK_I_DI', 'logK_S_DI',\n",
        "               'kcat_MS', 'kcat_DS', 'kcat_DSI', 'kcat_DSS']"
      ],
      "metadata": {
        "id": "m-U2Jlm7ODN5"
      },
      "execution_count": null,
      "outputs": []
    },
    {
      "cell_type": "code",
      "source": [
        "df_plot_1 = filter_2(df_1)\n",
        "df_plot_2 = filter_2(df_2)\n",
        "df_plot_3 = filter_2(df_3)"
      ],
      "metadata": {
        "id": "ey2kH3EEPH0D"
      },
      "execution_count": null,
      "outputs": []
    },
    {
      "cell_type": "code",
      "source": [
        "n = len(params_name)\n",
        "colors = ['red', 'orange', 'blue']\n",
        "fig, axes = plt.subplots(int(n/2), 2, figsize=(12, int(n/2)*4))\n",
        "axes = axes.flatten()\n",
        "for i, name in enumerate(params_name):\n",
        "    for j, df_plot in enumerate([df_plot_1, df_plot_2, df_plot_3]):\n",
        "        if len(df_plot[name].unique())>0:\n",
        "            axes[i].hist(df_plot[name], color=colors[j], alpha=0.3, density=True, bins=30)\n",
        "    axes[i].set_title(name);"
      ],
      "metadata": {
        "id": "Pkc58xEBOHpD"
      },
      "execution_count": null,
      "outputs": []
    },
    {
      "cell_type": "code",
      "source": [
        "pd_plot = pd.concat([df_plot_1.assign(dataset='1A'), df_plot_2.assign(dataset='2A'),\n",
        "                     df_plot_3.assign(dataset='3A')])\n",
        "for name in params_name:\n",
        "    plt.figure()\n",
        "    sns.histplot(x=name, data=pd_plot, kde=True, bins=50, hue='dataset')\n",
        "    plt.show()"
      ],
      "metadata": {
        "id": "Ihe9KjKzY_1G"
      },
      "execution_count": null,
      "outputs": []
    },
    {
      "cell_type": "markdown",
      "source": [
        "## Pairs of parameters"
      ],
      "metadata": {
        "id": "AGRjVOamhHxc"
      }
    },
    {
      "cell_type": "code",
      "source": [
        "def diff_params_pairs(df, params_pairs):\n",
        "    for pairs in params_pairs:\n",
        "        df.insert(len(df.columns), pairs[0]+'-'+pairs[1], df[pairs[0]] - df[pairs[1]])\n",
        "    return df"
      ],
      "metadata": {
        "id": "vgNQd2lBeXa5"
      },
      "execution_count": null,
      "outputs": []
    },
    {
      "cell_type": "code",
      "source": [
        "params_pairs = [['logK_I_D', 'logK_I_DI'], ['logK_S_M', 'logK_S_D'], ['logK_S_DI', 'logK_S_DS']]\n",
        "\n",
        "# df_plot_1 = diff_params_pairs(df_1, params_pairs)\n",
        "# df_plot_2 = diff_params_pairs(df_2, params_pairs)\n",
        "# df_plot_3 = diff_params_pairs(df_3, params_pairs)\n",
        "[df_plot_1, df_plot_2, df_plot_3] = ([diff_params_pairs(df, params_pairs) for df in [df_1, df_2, df_3]])\n",
        "\n",
        "print(list([pairs[0]+'-'+pairs[1] for pairs in params_pairs]))"
      ],
      "metadata": {
        "id": "zhSwSVhwfA0U"
      },
      "execution_count": null,
      "outputs": []
    },
    {
      "cell_type": "markdown",
      "metadata": {
        "id": "nEPisPVqPjUS"
      },
      "source": [
        "# Save HTML"
      ]
    },
    {
      "cell_type": "code",
      "execution_count": null,
      "metadata": {
        "id": "9PzeWZ_AUlF9"
      },
      "outputs": [],
      "source": [
        "!jupyter nbconvert --to html \"/content/drive/My Drive/MoonShot/dimer/20230414_Finding_lotItot.ipynb\""
      ]
    }
  ],
  "metadata": {
    "colab": {
      "provenance": [],
      "collapsed_sections": [
        "ColIN1gJlTRL",
        "nbXR2sG3gzyo",
        "8JRzhSfdHjSk",
        "WL8laeb1Hus6"
      ],
      "toc_visible": true
    },
    "kernelspec": {
      "display_name": "Python 3",
      "name": "python3"
    },
    "language_info": {
      "name": "python"
    }
  },
  "nbformat": 4,
  "nbformat_minor": 0
}