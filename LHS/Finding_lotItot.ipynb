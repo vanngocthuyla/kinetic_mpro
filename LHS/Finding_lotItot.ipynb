{
  "cells": [
    {
      "cell_type": "markdown",
      "metadata": {
        "id": "ColIN1gJlTRL"
      },
      "source": [
        "# Installation"
      ]
    },
    {
      "cell_type": "code",
      "execution_count": 1,
      "metadata": {
        "id": "Y4t9KpzclZiJ"
      },
      "outputs": [],
      "source": [
        "import numpy as np\n",
        "import itertools\n",
        "\n",
        "%matplotlib inline\n",
        "import matplotlib.pyplot as plt"
      ]
    },
    {
      "cell_type": "code",
      "execution_count": 2,
      "metadata": {
        "id": "5dGFVNHoeGGH"
      },
      "outputs": [],
      "source": [
        "import scipy\n",
        "from scipy.optimize import minimize, curve_fit\n",
        "\n",
        "import pandas as pd"
      ]
    },
    {
      "cell_type": "code",
      "source": [
        "#=============================================================================================\n",
        "# General robust competitive binding model\n",
        "#=============================================================================================\n",
        "\n",
        "class GeneralBindingModel:\n",
        "   \"\"\"\n",
        "   General robust binding model for one protein and arbitrary number of competitive ligands.\n",
        "\n",
        "   \"\"\"\n",
        "\n",
        "   @classmethod\n",
        "   def equilibrium_concentrations(cls, reactions, conservation_equations, tol=1.0e-8, initial_guess='zero'):\n",
        "      \"\"\"\n",
        "      Compute the equilibrium concentrations of each complex species for a general set of binding reactions.\n",
        "\n",
        "      Parameters\n",
        "      ----------\n",
        "      reactions : list\n",
        "          List of binding reactions.\n",
        "          Each binding reaction is encoded as a tuple of (log equilibrium constant, dict of stoichiometry)\n",
        "          Example: K_d = [RL] / ([R] [L]) becomes [ (-10, {'RL': -1, 'R' : +1, 'L' : +1}) ]\n",
        "      conservation_equations : list\n",
        "          List of mass conservation laws.\n",
        "          Each mass conservation law is encoded as a tuple of (log total concentration, dict of stoichiometry of all species)\n",
        "          Example: [R]tot = 10^-6 M = [RL] + [R] and [L]tot = 10^-6 M = [RL] + [L] becomes [ (-6, {'RL' : +1, 'R' : +1}), (-6, {'RL' : +1, 'L' : +1}) ]\n",
        "      tol : float, optional, default=1.0e-8\n",
        "          Solution tolerance for log concentrations.\n",
        "      initial_guess : str, optional, default='zero'\n",
        "          If 'zero', will assume all initial log concentrations are zero.\n",
        "          If 'spread', will spread out concentration among all species.\n",
        "\n",
        "      Returns\n",
        "      -------\n",
        "      log_concs : dict of str : float\n",
        "          log_concs[species] is the log concentration of specified species\n",
        "\n",
        "      Examples\n",
        "      --------\n",
        "\n",
        "      Simple 1:1 association\n",
        "\n",
        "      >>> reactions = [ (-10, {'RL': -1, 'R' : +1, 'L' : +1}) ]\n",
        "      >>> conservation_equations = [ (-6, {'RL' : +1, 'R' : +1}), (-6, {'RL' : +1, 'L' : +1}) ]\n",
        "      >>> log_concs = GeneralBindingModel.equilibrium_concentrations(reactions, conservation_equations)\n",
        "\n",
        "     Competitive 1:1 association\n",
        "\n",
        "      >>> reactions = [ (-10, {'RL': -1, 'R' : +1, 'L' : +1}), (-5, {'RP' : -1, 'R' : +1, 'P' : +1}) ]\n",
        "      >>> conservation_equations = [ (-6, {'RL' : +1, 'RP' : +1, 'R' : +1}), (-6, {'RL' : +1, 'L' : +1}), (-5, {'RP' : +1, 'P' : +1}) ]\n",
        "      >>> log_concs = GeneralBindingModel.equilibrium_concentrations(reactions, conservation_equations)\n",
        "\n",
        "      TODO\n",
        "      ----\n",
        "      * Can we allow the caller to specify initial conditions instead of conservation laws?\n",
        "\n",
        "      \"\"\"\n",
        "\n",
        "      nreactions = len(reactions)\n",
        "      nconservation = len(conservation_equations)\n",
        "      nequations = nreactions + nconservation\n",
        "\n",
        "      # Determine names of all species.\n",
        "      all_species = dict() # ordered\n",
        "      for (log_equilibrium_constant, reaction) in reactions:\n",
        "          for species in reaction.keys():\n",
        "              all_species[species] = 1\n",
        "      all_species = tuple(all_species.keys()) # order is now fixed\n",
        "      nspecies = len(all_species)\n",
        "\n",
        "      # Construct function with appropriate roots.\n",
        "      def ftarget(X):\n",
        "          target = np.zeros([nequations], np.float64)\n",
        "          jacobian = np.zeros([nequations, nspecies], np.float64)\n",
        "          equation_index = 0\n",
        "          # Reactions\n",
        "          for (log_equilibrium_constant, reaction) in reactions:\n",
        "              target[equation_index] = - log_equilibrium_constant\n",
        "              for (species_index, species) in enumerate(all_species):\n",
        "                  if species in reaction:\n",
        "                      stoichiometry = reaction[species]\n",
        "                      target[equation_index] += stoichiometry * X[species_index]\n",
        "                      jacobian[equation_index][species_index] = stoichiometry\n",
        "              equation_index += 1\n",
        "          # Conservation of mass\n",
        "          from scipy.special import logsumexp\n",
        "          for (log_total_concentration, conservation_equation) in conservation_equations:\n",
        "              target[equation_index] = - log_total_concentration\n",
        "              log_concs = list()\n",
        "              for (species_index, species) in enumerate(all_species):\n",
        "                  if species in conservation_equation:\n",
        "                      stoichiometry = conservation_equation[species]\n",
        "                      log_concs.append(X[species_index] + np.log(stoichiometry))\n",
        "              log_concs = np.array(log_concs)\n",
        "              logsum = logsumexp(log_concs)\n",
        "              target[equation_index] += logsum\n",
        "              for (species_index, species) in enumerate(all_species):\n",
        "                  log_concs = list()\n",
        "                  if species in conservation_equation:\n",
        "                      stoichiometry = conservation_equation[species]\n",
        "                      jacobian[equation_index, species_index] = stoichiometry * np.exp(X[species_index] - logsum)\n",
        "              equation_index += 1\n",
        "\n",
        "          return (target, jacobian)\n",
        "\n",
        "      # Construct initial guess\n",
        "      if initial_guess == 'spread':\n",
        "          # We assume that all matter is equally spread out among all species via the conservation equations\n",
        "          from scipy.misc import logsumexp\n",
        "          LOG_ZERO = -100\n",
        "          X = LOG_ZERO * np.ones([nspecies], np.float64)\n",
        "          for (species_index, species) in enumerate(all_species):\n",
        "              for (log_total_concentration, conservation_equation) in conservation_equations:\n",
        "                  log_total_stoichiometry = np.log(np.sum([stoichiometry for stoichiometry in conservation_equation.values()]))\n",
        "                  if species in conservation_equation:\n",
        "                      stoichiometry = conservation_equation[species]\n",
        "                      #X[species_index] = logsumexp([X[species_index], log_total_concentration + np.log(stoichiometry) - log_total_stoichiometry])\n",
        "                      X[species_index] = np.logaddexp(X[species_index], log_total_concentration + np.log(stoichiometry) - log_total_stoichiometry)\n",
        "      elif initial_guess == 'zero':\n",
        "          # Simple guess: All log concentrations are zero\n",
        "          X = np.zeros([nspecies], np.float64)\n",
        "      else:\n",
        "          raise ValueError('Unknown initial_guess {}'.format(initial_guess))\n",
        "\n",
        "      # Solve\n",
        "      from scipy.optimize import root\n",
        "      options = {'xtol' : tol}\n",
        "      sol = root(ftarget, X, method='lm', jac=True, tol=tol, options=options)\n",
        "      if (sol.success == False):\n",
        "          msg  = \"root-finder failed to converge:\\n\"\n",
        "          msg += str(sol)\n",
        "          raise Exception(msg)\n",
        "\n",
        "      # TODO: Ensure all constraints and conservation equations are satisfied?\n",
        "\n",
        "      log_concs = { all_species[index] : sol.x[index] for index in range(nspecies) }\n",
        "\n",
        "      return log_concs #, sol['cov_x']"
      ],
      "metadata": {
        "id": "AnsR_tTnnFY5"
      },
      "execution_count": 3,
      "outputs": []
    },
    {
      "cell_type": "markdown",
      "metadata": {
        "id": "nbXR2sG3gzyo"
      },
      "source": [
        "# Functions"
      ]
    },
    {
      "cell_type": "markdown",
      "source": [
        "## Kinetics"
      ],
      "metadata": {
        "id": "q9hypiOzn0PD"
      }
    },
    {
      "cell_type": "code",
      "execution_count": 4,
      "metadata": {
        "id": "xuJl8Ebtgzyo"
      },
      "outputs": [],
      "source": [
        "def DimerBindingModel(logMtot, logStot, logItot,\n",
        "                      logKd, logK_S_M, logK_S_D, logK_S_DS, logK_I_M, logK_I_D, logK_I_DI, logK_S_DI):\n",
        "    \"\"\"\n",
        "    Compute equilibrium concentrations for a binding model in which a ligand and substrate \n",
        "    competitively binds to a monomer, dimer, or dimer complexed with a ligand.\n",
        "    \n",
        "    Parameters\n",
        "    ----------\n",
        "    logMtot : numpy array\n",
        "      Log of the total protein concentation summed over bound and unbound species\n",
        "    logStot : numpy array\n",
        "      Log of the total substrate concentation summed over bound and unbound species\n",
        "    logItot : numpy array\n",
        "      Log of the total ligand concentation summed over bound and unbound species\n",
        "    \"\"\"\n",
        "    species = ['M','D','I','S','MS','MI','DI','DI2','DS','DSI','DSS']\n",
        "    # relationships between dissociation constants due to loops \n",
        "    logKd_MS_M = logKd + logK_S_D - logK_S_M\n",
        "    logKd_MI_M = logKd + logK_I_D - logK_I_M\n",
        "    logK_I_DS = logK_I_D + logK_S_DI - logK_S_D\n",
        "\n",
        "    reactions = [(logKd, {'M':2, 'D':-1}),               # Dimerization\n",
        "                 (logKd_MS_M, {'MS':1, 'M':1, 'DS': -1}),\n",
        "                 (logK_S_M, {'M': 1, 'S':1, 'MS': -1}),  # Substrate binding\n",
        "                 (logK_S_D, {'D':1, 'S':1, 'DS': -1}),                 \n",
        "                 (logK_S_DS, {'DS':1, 'S':1, 'DSS':-1}),\n",
        "                 (logKd_MI_M, {'MI':1, 'M':1, 'DI': -1}),\n",
        "                 (logK_I_M, {'M':1, 'I':1, 'MI': -1}),   # Inhibitor binding\n",
        "                 (logK_I_D, {'D':1, 'I':1, 'DI':-1}),                \n",
        "                 (logK_I_DI, {'DI':1, 'I':1, 'DI2':-1}),             \n",
        "                 (logK_I_DS, {'DS':1, 'I':1, 'DSI':-1}), # Substrate and inhibitor binding                  \n",
        "                 (logK_S_DI, {'DI':1, 'S':1, 'DSI':-1})\n",
        "                 ]\n",
        "    log_concs = dict([(key, np.zeros(logItot.shape[0])) for key in species])\n",
        "\n",
        "    for n in range(logItot.shape[0]):\n",
        "        conservation_equations = [(logMtot[n], {'M':+1,'D':+2,'MS':+1,'MI':+1,'DI':+2,'DI2':+2,'DS':+2,'DSI': +2,'DSS':+2}), # Total protein\n",
        "                                  (logItot[n], {'I':+1, 'MI':+1, 'DI':+1, 'DI2':+2, 'DSI':+1}),                              # Total ligand\n",
        "                                  (logStot[n], {'S':+1, 'MS':+1, 'DS':+1, 'DSI':+1, 'DSS':+2})                               # Total substrate\n",
        "                                  ]\n",
        "        log_c = GeneralBindingModel.equilibrium_concentrations(reactions, conservation_equations)\n",
        "        for key in species:\n",
        "            log_concs[key][n] = log_c[key]\n",
        "    \n",
        "    return log_concs\n",
        "\n",
        "\n",
        "def ReactionRate(logMtot, logStot, logItot,\n",
        "                 logKd, logK_S_M, logK_S_D, logK_S_DS, logK_I_M, logK_I_D, logK_I_DI, logK_S_DI,\n",
        "                 kcat_MS=0., kcat_DS=0., kcat_DSI=1., kcat_DSS=1.):\n",
        "    \"\"\"\n",
        "    Reaction Rate\n",
        "      v = kcat_MS*[MS] + kcat_+DS*[DS] + kcat_DSI*[DSI] + kcat_DSS*[DSS]\n",
        "    \n",
        "    Parameters\n",
        "    ----------\n",
        "    logMtot : numpy array\n",
        "      Log of the total protein concentation summed over bound and unbound species\n",
        "    logStot : numpy array\n",
        "      Log of the total substrate concentation summed over bound and unbound species\n",
        "    logItot : numpy array\n",
        "      Log of the total ligand concentation summed over bound and unbound species      \n",
        "    \"\"\"\n",
        "\n",
        "    log_concs = DimerBindingModel(logMtot, logStot, logItot,\n",
        "                                  logKd, logK_S_M, logK_S_D, logK_S_DS, logK_I_M, logK_I_D, logK_I_DI, logK_S_DI)\n",
        "    v = kcat_MS*np.exp(log_concs['MS']) + kcat_DS*np.exp(log_concs['DS']) + kcat_DSI*np.exp(log_concs['DSI']) + kcat_DSS*np.exp(log_concs['DSS'])\n",
        "    return v\n",
        "\n",
        "def MonomerConcentration(logMtot, logStot, logItot, \n",
        "                         logKd, logK_S_M, logK_S_D, logK_S_DS, \n",
        "                         logK_I_M, logK_I_D, logK_I_DI, logK_S_DI):\n",
        "    \"\"\"\n",
        "    Response of DimerBindingModel\n",
        "      Response ~ v = kcat_MS*[MS] + kcat_+DS*[DS] + kcat_DSI*[DSI] + kcat_DSS*[DSS]\n",
        "    \n",
        "    Parameters\n",
        "    ----------\n",
        "    logMtot : numpy array\n",
        "      Log of the total protein concentation summed over bound and unbound species\n",
        "    logStot : numpy array\n",
        "      Log of the total substrate concentation summed over bound and unbound species\n",
        "    logItot : numpy array\n",
        "      Log of the total ligand concentation summed over bound and unbound species      \n",
        "    \"\"\"\n",
        "    log_concs = DimerBindingModel(logMtot, logStot, logItot,\n",
        "                                  logKd, logK_S_M, logK_S_D, logK_S_DS, \n",
        "                                  logK_I_M, logK_I_D, logK_I_DI, logK_S_DI)\n",
        "    return np.sum(np.exp([log_concs[species] for species in ['M','MI','MS']]),0)"
      ]
    },
    {
      "cell_type": "code",
      "execution_count": 5,
      "metadata": {
        "id": "L6A8nXNUgzyp"
      },
      "outputs": [],
      "source": [
        "def CatalyticEfficiency(logMtot, logItot,\n",
        "                        logKd, logK_S_M, logK_S_D, logK_S_DS,\n",
        "                        logK_I_M, logK_I_D, logK_I_DI, logK_S_DI, \n",
        "                        kcat_MS=0., kcat_DS=0., kcat_DSI=1., kcat_DSS=1.,\n",
        "                        logStot = None):\n",
        "    \"\"\"\n",
        "    kcat/Km, based on the finite difference derivative\n",
        "    \n",
        "    Parameters\n",
        "    ----------\n",
        "    logMtot : numpy array\n",
        "      Log of the total protein concentation summed over bound and unbound species\n",
        "    logItot : numpy array\n",
        "      Log of the total ligand concentation summed over bound and unbound species      \n",
        "    \"\"\"\n",
        "    if logStot is None:\n",
        "        logStot = np.log(np.array([1, 2])*1E-6)\n",
        "    DeltaS = (np.exp(logStot[1])-np.exp(logStot[0]))\n",
        "\n",
        "    catalytic_efficiency = np.zeros(logItot.shape)\n",
        "    for (logItot_ind, ind) in zip(logItot, range(logItot.shape[0])):\n",
        "      v = ReactionRate(np.array([logMtot[ind], logMtot[ind]]), \n",
        "                       logStot, np.array([logItot_ind, logItot_ind]), \n",
        "                       logKd, logK_S_M, logK_S_D, logK_S_DS,\n",
        "                       logK_I_M, logK_I_D, logK_I_DI, logK_S_DI,\n",
        "                       kcat_MS, kcat_DS, kcat_DSI, kcat_DSS)\n",
        "      catalytic_efficiency[ind] = (v[-1]-v[0])/DeltaS\n",
        "    return catalytic_efficiency"
      ]
    },
    {
      "cell_type": "markdown",
      "source": [
        "## CRC"
      ],
      "metadata": {
        "id": "ZiY1aprnn2f6"
      }
    },
    {
      "cell_type": "code",
      "source": [
        "def f_curve_vec(x, R_b, R_t, x_50, H):\n",
        "    \"\"\"\n",
        "    Dose-response curve function\n",
        "    \n",
        "    Parameters:\n",
        "    ----------\n",
        "    x   : array\n",
        "          log_10 of concentration of inhibitor\n",
        "    R_b : float\n",
        "          bottom response\n",
        "    R_t : float\n",
        "          top response\n",
        "    x_50: float\n",
        "          logIC50\n",
        "    H   : float\n",
        "          hill slope\n",
        "    ----------\n",
        "    return an array of response\n",
        "    \"\"\"\n",
        "    return R_b+(R_t-R_b)/(1+10**(x*H-x_50*H))\n",
        "\n",
        "\n",
        "def parameter_estimation(data, theta=None, variances=None, itnmax=100, tol=1e-4): \n",
        "    \"\"\"\n",
        "    Fitting non-linear regression without control\n",
        "    Parameters:\n",
        "    ----------\n",
        "    data      : list of two element: x, y, c1, c2.\n",
        "                x is vector of concentration\n",
        "                y is vector of responsex and y must be same length\n",
        "    theta     : vector of 4 parameters (bottom response, top response, logIC50, hill slope)\n",
        "    ----------\n",
        "    return [theta, ASE, variance]\n",
        "    \"\"\"\n",
        "\n",
        "    # Initial value and boundary for theta\n",
        "    min_y = min(data['y'])\n",
        "    max_y = max(data['y'])\n",
        "    range_y = max_y - min_y\n",
        "\n",
        "    if theta is None:\n",
        "        theta = [min_y, max_y, data['x'][np.argmin(np.square(data['y']-np.mean(data['y'])))], 1.0]\n",
        "        upper = [min_y + 0.25*range_y, max_y + 0.25*range_y, 0, 20]\n",
        "        lower = [min_y - 0.25*range_y, max_y - 0.25*range_y, -50, -20]\n",
        "    else:\n",
        "        upper = [theta[0] + 0.25*range_y, theta[1] + 0.25*range_y, 0, 20]\n",
        "        lower = [theta[0] - 0.25*range_y, theta[1] - 0.25*range_y, -50, -20]\n",
        "\n",
        "    fit_f, var_matrix = curve_fit(f_curve_vec, xdata=np.array(data['x']), ydata=np.array(data['y']),\n",
        "                                  absolute_sigma=True, p0=theta,\n",
        "                                  bounds=(lower, upper))\n",
        "    \n",
        "    # Estimate ASE for theta\n",
        "    y_hat = f_curve_vec(data['x'], *fit_f)\n",
        "    sigma = np.sqrt(np.sum((y_hat - data['y'])**2)/(len(y_hat)-4))\n",
        "    ASE = np.sqrt(np.diag(var_matrix))*sigma #unscale_SE*sigma\n",
        "\n",
        "    mle = [fit_f, ASE, np.array([sigma**2])]\n",
        "\n",
        "    return mle\n",
        "\n",
        "\n",
        "def scaling_data(y, bottom, top):\n",
        "    \"\"\"\n",
        "    This function is used to normalize data by mean of top and bottom control\n",
        "    \n",
        "    Parameters:\n",
        "    ----------\n",
        "    y     : vector of response\n",
        "    bottom: mean of vector of control on the bottom\n",
        "    top   : mean of vector of control on the top\n",
        "    ----------\n",
        "\n",
        "    return vector of normalized response \n",
        "    \"\"\"\n",
        "    min_y = min(bottom, top)\n",
        "    max_y = max(bottom, top)\n",
        "    return (y-min_y)/abs(max_y - min_y)*100"
      ],
      "metadata": {
        "id": "cjAkicJWnqYQ"
      },
      "execution_count": 6,
      "outputs": []
    },
    {
      "cell_type": "code",
      "source": [
        "def normalized_params(theta, ASE, bottom, top):\n",
        "    \"\"\"\n",
        "    This function is used to normalize some parameters by mean of top and bottom control\n",
        "    \n",
        "    Parameters:\n",
        "    ----------\n",
        "    theta : vector of bottom response, top response, x50 and hill slope\n",
        "    ASE   : vector of ASE of theta\n",
        "    bottom: mean of vector of control on the bottom\n",
        "    top   : mean of vector of control on the top\n",
        "    ----------\n",
        "\n",
        "    return vector of normalized theta and their ASE \n",
        "    \"\"\"\n",
        "    Rb = ufloat(theta[0], ASE[0])\n",
        "    Rt = ufloat(theta[1], ASE[1])\n",
        "    Rb_update = scaling_data(Rb, bottom, top)\n",
        "    Rt_update = scaling_data(Rt, bottom, top)\n",
        "    theta_update = np.array([Rb_update.n, Rt_update.n, theta[2], theta[3]])\n",
        "    ASE_update = np.array([Rb_update.s, Rt_update.s, ASE[2], ASE[3]])\n",
        "    return theta_update, ASE_update\n",
        "\n",
        "\n",
        "def plot_crc_params(data, theta=None, positive=None, negative=None, outlier_pos=None, \n",
        "                    plot_control=True, data_normalizing=False, \n",
        "                    ax=None, line_color='b', line_style = '-', label_curve='Fitting',  \n",
        "                    title_name=None, xlabel='$Log_{10}Concentration$', ylabel='Response', \n",
        "                    figure_size=(6.4, 4.8), dpi=80, outfile=None):\n",
        "    \"\"\"\n",
        "    Parameters:\n",
        "    ----------\n",
        "    data            : list of experiment information: x, y, c1, c2, n_obs, outlier_pos.\n",
        "                        x is vector of log10 of concentration\n",
        "                        y is vector of response\n",
        "                        c1 is control at bottom. c1 can be vector or None or 'None'\n",
        "                        c2 is control at top. c2 can be vector or None or 'None'\n",
        "                        n_obs is vector of nummber of replication at each concentration\n",
        "                        outlier_pos is the position of outlier detected after first fitting\n",
        "                        x and y must be same length\n",
        "    theta           : vector, if no 'theta' in data, can using this plug-in theta\n",
        "    positive        : vector, if no 'c1' in data, can using this plug-in positive control\n",
        "    negative        : vector, if no 'c2' in data, can using this plug-in negative control\n",
        "    outlier_pos     : vector, if no 'outlier_pos' in data, can using this plug-in outlier_pos\n",
        "    plot_control    : boolean, if plot_control=False, no plotting the control despite of data has the control information\n",
        "    data_normalizing: boolean, if negative and positive available, normalizing data\n",
        "    ax              : if None, generating new plot\n",
        "    line_color      : string, color of fitting line\n",
        "    line_style      : string, line_style of fitting line\n",
        "    label_curve     : string, label of fitting line\n",
        "    title_name      : string, title of the plot\n",
        "    xlabel, ylabel  : string, label of two axes of plot\n",
        "    figure_size     : (width, height) size of plot\n",
        "    dpi             : quality of plot\n",
        "    outfile         : optional, string, output file for saving plot\n",
        "    ----------\n",
        "    return the plot of curve with information of params and their ASE\n",
        "    \"\"\"\n",
        "\n",
        "    try: \n",
        "        y = data['y']\n",
        "    except:\n",
        "        y = data['response']\n",
        "\n",
        "    try:\n",
        "        x = data['x']\n",
        "    except: \n",
        "        x = data['LogConcentration']\n",
        "\n",
        "    if positive is None:\n",
        "        if 'c1' in data.index or 'Positive' in data.index:\n",
        "            try: \n",
        "                c1 = data['c1']\n",
        "            except: \n",
        "                c1 = data['Positive']\n",
        "        else:\n",
        "            c1 = None\n",
        "    else:\n",
        "        c1 = positive\n",
        "\n",
        "    if negative is None:\n",
        "        if 'c2' in data.index or 'Negative' in data.index:\n",
        "            try: \n",
        "                c2 = data['c2']\n",
        "            except: \n",
        "                c2 = data['Negative']\n",
        "        else:\n",
        "            c2 = None\n",
        "    else: \n",
        "        c2 = negative\n",
        "\n",
        "    if theta is None: \n",
        "        if 'theta' in data.index and 'ASE' in data.index:\n",
        "            theta = data['theta']\n",
        "            ASE = data['ASE']\n",
        "        else:\n",
        "            print(\"Please provide the values for 4 parameters.\")\n",
        "\n",
        "    if data_normalizing: \n",
        "        if len(c1)>=0 and len(c2)>=0:\n",
        "            y_update = scaling_data(y, np.mean(c1), np.mean(c2))\n",
        "            c1_update = scaling_data(c1, np.mean(c1), np.mean(c2))\n",
        "            c2_update = scaling_data(c2, np.mean(c1), np.mean(c2))\n",
        "            theta_update, ASE_update = normalized_params(theta, ASE, np.mean(c1), np.mean(c2))\n",
        "\n",
        "            y = y_update\n",
        "            c1 = c1_update\n",
        "            c2 = c2_update\n",
        "            theta = theta_update\n",
        "            ASE = ASE_update\n",
        "        else: \n",
        "            print(\"Please provide negative/positive controls if you want to normalize data.\")\n",
        "\n",
        "    if ax is None:\n",
        "        plt.figure(figsize=figure_size, dpi=dpi)\n",
        "        ax = plt.axes()\n",
        "\n",
        "    conc = np.linspace(min(x), max(x), num=50)\n",
        "    fitted = f_curve_vec(conc, *theta)\n",
        "\n",
        "    ax.plot(x, y, 'k.', label='Observed Data')\n",
        "    ax.plot(conc, fitted, color=line_color, linestyle=line_style, label=label_curve)\n",
        "    handles, labels = ax.get_legend_handles_labels()\n",
        "\n",
        "    ax.text(0.65, 0.7,\n",
        "            r'$R_b$: '+ str('%3.2f' %theta[0]) + ' $\\pm$ ' + str('%3.2f' %ASE[0])\n",
        "            + '\\n$R_t$: '+ str('%3.2f' %theta[1]) + ' $\\pm$ ' + str('%3.2f' %ASE[1]) \n",
        "            + '\\n$x_{50}$: '+ str('%3.2f' %theta[2]) + ' $\\pm$ ' + str('%3.2f' %ASE[2])\n",
        "            + '\\n$H$: ' + str('%3.2f' %theta[3]) + ' $\\pm$ ' + str('%3.2f' %ASE[3]), \n",
        "        fontsize=11, transform=ax.transAxes, color='k')\n",
        "\n",
        "\n",
        "    if plot_control and c1 !=\"None\" and c1 is not None:\n",
        "        ax.plot(np.repeat(max(x+0.5), len(c1)), c1, 'g^', label=\"$c_b$\")\n",
        "        handles, labels = ax.get_legend_handles_labels()\n",
        "    \n",
        "    if plot_control and c2 !=\"None\" and c2 is not None:\n",
        "        ax.plot(np.repeat(min(x-0.5), len(c2)), c2, 'gv', label=\"$c_t$\")\n",
        "        handles, labels = ax.get_legend_handles_labels()\n",
        "\n",
        "    if outlier_pos is not None:\n",
        "        ax.plot(x[outlier_pos], y[outlier_pos], 'rx')\n",
        "        handles, labels = ax.get_legend_handles_labels()\n",
        "    else: \n",
        "        if 'Outlier_Pos' in data.index and data['Outlier_Pos'] is not None and data['Outlier_Pos']!='None': \n",
        "            outlier_pos = data['Outlier_Pos']\n",
        "            ax.plot(x[outlier_pos], y[outlier_pos], 'rx')\n",
        "            handles, labels = ax.get_legend_handles_labels()\n",
        "\n",
        "    ax.set_xlabel(xlabel)\n",
        "    ax.set_ylabel(ylabel)\n",
        "\n",
        "    if title_name is not None:\n",
        "        ax.set_title(title_name)\n",
        "\n",
        "    # ax.legend(handles, labels, bbox_to_anchor=(1, 1))\n",
        "    plt.tight_layout();\n",
        "    \n",
        "    if outfile is not None: \n",
        "        plt.savefig(outfile)\n",
        "        plt.ioff()\n",
        "    else:\n",
        "        return ax"
      ],
      "metadata": {
        "id": "X22PQLxVr7do"
      },
      "execution_count": 7,
      "outputs": []
    },
    {
      "cell_type": "markdown",
      "metadata": {
        "id": "1uI0kaanlRW0"
      },
      "source": [
        "# Test"
      ]
    },
    {
      "cell_type": "markdown",
      "source": [
        "## Test 1"
      ],
      "metadata": {
        "id": "wi3M5-i0Gi6Q"
      }
    },
    {
      "cell_type": "code",
      "source": [
        "logKd = -0.005 # Dimerization\n",
        "# Substrate binding\n",
        "logK_S_DS = -13.853\n",
        "logK_S_M = -6.015\n",
        "logK_S_D = -9.312\n",
        "# Inhibitor binding\n",
        "logK_I_M = 0\n",
        "logK_I_D = -17.669\n",
        "logK_I_DI = -18.141\n",
        "# Binding of substrate and inhibitor\n",
        "logK_S_DI = -13.967\n",
        "\n",
        "kcat_MS = 0\n",
        "kcat_DS = 0\n",
        "kcat_DSI = 0.45\n",
        "kcat_DSS = 0.38"
      ],
      "metadata": {
        "id": "imyGTKtTGi6Q"
      },
      "execution_count": 8,
      "outputs": []
    },
    {
      "cell_type": "code",
      "execution_count": 9,
      "metadata": {
        "id": "07j37KXYGi6R"
      },
      "outputs": [],
      "source": [
        "n_points = 50\n",
        "n_concs = 12\n",
        "min_conc = np.log(1E-12)\n",
        "max_conc = np.log(1E-6)\n",
        "min_percentage=10\n",
        "\n",
        "logMtot = np.array([np.log(10E-6)]*n_points) \n",
        "logStot = np.array([np.log(0.25E-3)]*n_points) \n",
        "\n",
        "logItot = np.linspace(min_conc, max_conc, n_points)"
      ]
    },
    {
      "cell_type": "code",
      "execution_count": 10,
      "metadata": {
        "colab": {
          "base_uri": "https://localhost:8080/",
          "height": 445
        },
        "outputId": "07d5f632-4ec0-4feb-a8bf-71050333e51f",
        "id": "cBpoDG0oGi6R"
      },
      "outputs": [
        {
          "output_type": "display_data",
          "data": {
            "text/plain": [
              "<Figure size 640x480 with 1 Axes>"
            ],
            "image/png": "[encoded data removed]"
          },
          "metadata": {}
        }
      ],
      "source": [
        "R = ReactionRate(logMtot, logStot, logItot,\n",
        "                 logKd, logK_S_M, logK_S_D, logK_S_DS, logK_I_M, logK_I_D, logK_I_DI, logK_S_DI,\n",
        "                 kcat_MS, kcat_DS, kcat_DSS, kcat_DSI)\n",
        "plt.plot(logItot, R, \".-\");"
      ]
    },
    {
      "cell_type": "code",
      "source": [
        "scaling_R = scaling_data(R, min(R), max(R))\n",
        "if np.argmax(R)==(len(R)-1):\n",
        "    index_max_R = np.argmax(R)\n",
        "    index_min_R = np.argmax(np.isclose(scaling_R, min(scaling_R)+1, rtol=1e-1))\n",
        "\n",
        "    conc_max_R = logItot[index_max_R]\n",
        "    conc_min_R = logItot[index_min_R]\n",
        "    logItot_2 = np.linspace(conc_min_R, conc_max_R, n_concs)\n",
        "\n",
        "elif np.argmax(R) == 0:\n",
        "    index_max_R = len(scaling_R) - np.argmax(np.isclose(max(scaling_R), np.flip(scaling_R), rtol=1e-1)) - 1\n",
        "    index_min_R = len(logItot) - np.argmax(np.isclose(np.flip(scaling_R), (np.max(scaling_R)/100*min_percentage), rtol=1e-1)) - 1\n",
        "    \n",
        "    conc_max_R = logItot[index_max_R]\n",
        "    conc_min_R = logItot[index_min_R]\n",
        "    logItot_2 = np.linspace(conc_max_R, conc_min_R, n_concs)\n",
        "\n",
        "else: \n",
        "    index_max_R = np.argmax(R)\n",
        "    search_range_R = R[index_max_R:]\n",
        "    index_min_R = len(logItot) - np.argmax(np.isclose(np.flip(search_range_R), np.max(scaling_R)/100*min_percentage, rtol=1e-1)) - 1\n",
        "    \n",
        "    conc_max_R = logItot[index_max_R]\n",
        "    conc_min_R = logItot[index_min_R]\n",
        "    logItot_2 = np.linspace(conc_max_R, conc_min_R, n_concs)"
      ],
      "metadata": {
        "id": "x3WGkFCjGi6R"
      },
      "execution_count": 11,
      "outputs": []
    },
    {
      "cell_type": "code",
      "source": [
        "R_2 = ReactionRate(logMtot, logStot, logItot_2,\n",
        "                   logKd, logK_S_M, logK_S_D, logK_S_DS, logK_I_M, logK_I_D, logK_I_DI, logK_S_DI,\n",
        "                   kcat_MS, kcat_DS, kcat_DSS, kcat_DSI)\n",
        "plt.plot(logItot, R, \".-\");\n",
        "plt.plot(logItot_2, R_2, \"--\");"
      ],
      "metadata": {
        "colab": {
          "base_uri": "https://localhost:8080/",
          "height": 445
        },
        "outputId": "3a19c7f5-6ddd-4c24-f740-a3035d458794",
        "id": "ttYLYBI3Gi6S"
      },
      "execution_count": 12,
      "outputs": [
        {
          "output_type": "display_data",
          "data": {
            "text/plain": [
              "<Figure size 640x480 with 1 Axes>"
            ],
            "image/png": "[encoded data removed]"
          },
          "metadata": {}
        }
      ]
    },
    {
      "cell_type": "code",
      "source": [
        "data = {}\n",
        "data['x'] = logItot_2\n",
        "data['y'] = scaling_data(R_2, min(R_2), max(R_2))\n",
        "\n",
        "[theta, ASE, var] = parameter_estimation(data)\n",
        "[R_b, R_t, x50, H] = theta"
      ],
      "metadata": {
        "id": "glz2RB8vGi6S"
      },
      "execution_count": 13,
      "outputs": []
    },
    {
      "cell_type": "code",
      "source": [
        "temp = np.linspace(min(data['x']), max(data['x']), 50)\n",
        "plt.plot(data['x'], data['y'], \".\")\n",
        "plt.plot(temp, f_curve_vec(temp, *theta), \"-\");\n",
        "print(H)"
      ],
      "metadata": {
        "colab": {
          "base_uri": "https://localhost:8080/",
          "height": 447
        },
        "outputId": "96c0e278-4b20-4a8a-f97e-4225422f2308",
        "id": "czYM7s0WGi6S"
      },
      "execution_count": 14,
      "outputs": [
        {
          "output_type": "stream",
          "name": "stdout",
          "text": [
            "-0.7628781279986746\n"
          ]
        },
        {
          "output_type": "display_data",
          "data": {
            "text/plain": [
              "<Figure size 640x480 with 1 Axes>"
            ],
            "image/png": "[encoded data removed]"
          },
          "metadata": {}
        }
      ]
    },
    {
      "cell_type": "markdown",
      "source": [
        "## Test 2"
      ],
      "metadata": {
        "id": "ma-STLmOGmW2"
      }
    },
    {
      "cell_type": "code",
      "execution_count": 15,
      "metadata": {
        "id": "aUn9hP07GmW3"
      },
      "outputs": [],
      "source": [
        "logKd = np.log(6600E-6) # Dimerization\n",
        "# Substrate binding\n",
        "logK_S_DS = np.log(1E-7)\n",
        "logK_S_M = np.log(1E-6)\n",
        "logK_S_D = np.log(1E-8)\n",
        "# Inhibitor binding\n",
        "logK_I_M = np.log(7.8E-6)\n",
        "logK_I_D = np.log(6.1E-6) # Inhibitor binding to free dimer\n",
        "logK_I_DI = np.log(2.27E-06)\n",
        "# Binding of substrate and inhibitor\n",
        "logK_S_DI = np.log(91E-6) # Substrate binding to inhibitor-dimer complex\n",
        "\n",
        "kcat_MS = 0\n",
        "kcat_DS = 0\n",
        "kcat_DSS = 0.5\n",
        "kcat_DSI = 0.5"
      ]
    },
    {
      "cell_type": "code",
      "execution_count": 16,
      "metadata": {
        "id": "XmPXxD1PGmW3"
      },
      "outputs": [],
      "source": [
        "n_points = 50\n",
        "n_concs = 12\n",
        "min_conc = np.log(1E-12)\n",
        "max_conc = np.log(1E-6)\n",
        "min_percentage=10\n",
        "\n",
        "logMtot = np.array([np.log(10E-6)]*n_points) \n",
        "logStot = np.array([np.log(0.25E-3)]*n_points) \n",
        "\n",
        "logItot = np.linspace(min_conc, max_conc, n_points)"
      ]
    },
    {
      "cell_type": "code",
      "execution_count": 17,
      "metadata": {
        "colab": {
          "base_uri": "https://localhost:8080/",
          "height": 445
        },
        "outputId": "c3df85e8-2bd6-4eca-b95d-7f686cab9396",
        "id": "ExsVvuSkGmW4"
      },
      "outputs": [
        {
          "output_type": "display_data",
          "data": {
            "text/plain": [
              "<Figure size 640x480 with 1 Axes>"
            ],
            "image/png": "[encoded data removed]"
          },
          "metadata": {}
        }
      ],
      "source": [
        "R = ReactionRate(logMtot, logStot, logItot,\n",
        "                 logKd, logK_S_M, logK_S_D, logK_S_DS, logK_I_M, logK_I_D, logK_I_DI, logK_S_DI,\n",
        "                 kcat_MS, kcat_DS, kcat_DSS, kcat_DSI)\n",
        "plt.plot(logItot, R, \".-\");"
      ]
    },
    {
      "cell_type": "code",
      "source": [
        "scaling_R = scaling_data(R, min(R), max(R))\n",
        "if np.argmax(R)==(len(R)-1):\n",
        "    index_max_R = np.argmax(R)\n",
        "    index_min_R = np.argmax(np.isclose(scaling_R, min(scaling_R)+1, rtol=1e-1))\n",
        "\n",
        "    conc_max_R = logItot[index_max_R]\n",
        "    conc_min_R = logItot[index_min_R]\n",
        "    logItot_2 = np.linspace(conc_min_R, conc_max_R, n_concs)\n",
        "\n",
        "elif np.argmax(R) == 0:\n",
        "    index_max_R = len(scaling_R) - np.argmax(np.isclose(max(scaling_R), np.flip(scaling_R), rtol=1e-1)) - 1\n",
        "    index_min_R = len(logItot) - np.argmax(np.isclose(np.flip(scaling_R), (np.max(scaling_R)/100*min_percentage), rtol=1e-1)) - 1\n",
        "    \n",
        "    conc_max_R = logItot[index_max_R]\n",
        "    conc_min_R = logItot[index_min_R]\n",
        "    logItot_2 = np.linspace(conc_max_R, conc_min_R, n_concs)\n",
        "\n",
        "else: \n",
        "    index_max_R = np.argmax(R)\n",
        "    search_range_R = R[index_max_R:]\n",
        "    index_min_R = len(logItot) - np.argmax(np.isclose(np.flip(search_range_R), np.max(scaling_R)/100*min_percentage, rtol=1e-1)) - 1\n",
        "    \n",
        "    conc_max_R = logItot[index_max_R]\n",
        "    conc_min_R = logItot[index_min_R]\n",
        "    logItot_2 = np.linspace(conc_max_R, conc_min_R, n_concs)"
      ],
      "metadata": {
        "id": "9qyF89ocGmW4"
      },
      "execution_count": 18,
      "outputs": []
    },
    {
      "cell_type": "code",
      "source": [
        "R_2 = ReactionRate(logMtot, logStot, logItot_2,\n",
        "                   logKd, logK_S_M, logK_S_D, logK_S_DS, logK_I_M, logK_I_D, logK_I_DI, logK_S_DI,\n",
        "                   kcat_MS, kcat_DS, kcat_DSS, kcat_DSI)\n",
        "plt.plot(logItot, R, \".-\");\n",
        "plt.plot(logItot_2, R_2, \"--\");"
      ],
      "metadata": {
        "colab": {
          "base_uri": "https://localhost:8080/",
          "height": 445
        },
        "outputId": "ea32531a-f01e-492e-9212-a63766358e32",
        "id": "Y-3KCintGmW4"
      },
      "execution_count": 19,
      "outputs": [
        {
          "output_type": "display_data",
          "data": {
            "text/plain": [
              "<Figure size 640x480 with 1 Axes>"
            ],
            "image/png": "[encoded data removed]"
          },
          "metadata": {}
        }
      ]
    },
    {
      "cell_type": "code",
      "source": [
        "data = {}\n",
        "data['x'] = logItot_2\n",
        "data['y'] = scaling_data(R_2, min(R_2), max(R_2))\n",
        "\n",
        "[theta, ASE, var] = parameter_estimation(data)\n",
        "[R_b, R_t, x50, H] = theta"
      ],
      "metadata": {
        "id": "f79y7dQAGmW4"
      },
      "execution_count": 21,
      "outputs": []
    },
    {
      "cell_type": "code",
      "source": [
        "temp = np.linspace(min(data['x']), max(data['x']), 50)\n",
        "plt.plot(data['x'], data['y'], \".\")\n",
        "plt.plot(temp, f_curve_vec(temp, *theta), \"-\");\n",
        "print(H)"
      ],
      "metadata": {
        "colab": {
          "base_uri": "https://localhost:8080/",
          "height": 447
        },
        "outputId": "e6c72312-f0e9-45fc-cd39-0e914eb947a3",
        "id": "FW_OtH2_GmW5"
      },
      "execution_count": 22,
      "outputs": [
        {
          "output_type": "stream",
          "name": "stdout",
          "text": [
            "0.9850447982057828\n"
          ]
        },
        {
          "output_type": "display_data",
          "data": {
            "text/plain": [
              "<Figure size 640x480 with 1 Axes>"
            ],
            "image/png": "[encoded data removed]"
          },
          "metadata": {}
        }
      ]
    },
    {
      "cell_type": "markdown",
      "source": [
        "## Test 3"
      ],
      "metadata": {
        "id": "TrIwGHYKGfN_"
      }
    },
    {
      "cell_type": "code",
      "source": [
        "logKd = -0.005 # Dimerization\n",
        "# Substrate binding\n",
        "logK_S_DS = -13.853\n",
        "logK_S_M = -6.015\n",
        "logK_S_D = -9.312\n",
        "# Inhibitor binding\n",
        "logK_I_M = 0\n",
        "logK_I_D = -17.669\n",
        "logK_I_DI = -18.141\n",
        "# Binding of substrate and inhibitor\n",
        "logK_S_DI = -13.967\n",
        "\n",
        "kcat_MS = 0\n",
        "kcat_DS = 0\n",
        "kcat_DSI = 0.45\n",
        "kcat_DSS = 0.38"
      ],
      "metadata": {
        "id": "xQzNbl_xpLpt"
      },
      "execution_count": 23,
      "outputs": []
    },
    {
      "cell_type": "code",
      "execution_count": 24,
      "metadata": {
        "id": "A1MOLNVY5wO6"
      },
      "outputs": [],
      "source": [
        "n_points = 50\n",
        "n_concs = 12\n",
        "min_conc = np.log(1E-12)\n",
        "max_conc = np.log(1E-3)\n",
        "min_percentage=10\n",
        "\n",
        "logMtot = np.array([np.log(10E-6)]*n_points) \n",
        "logStot = np.array([np.log(0.25E-3)]*n_points) \n",
        "\n",
        "logItot = np.linspace(min_conc, max_conc, n_points)"
      ]
    },
    {
      "cell_type": "code",
      "execution_count": 25,
      "metadata": {
        "id": "bEGJSyGv5wO8",
        "colab": {
          "base_uri": "https://localhost:8080/",
          "height": 445
        },
        "outputId": "1c634204-1efd-4200-fb92-448d51be4c31"
      },
      "outputs": [
        {
          "output_type": "display_data",
          "data": {
            "text/plain": [
              "<Figure size 640x480 with 1 Axes>"
            ],
            "image/png": "[encoded data removed]"
          },
          "metadata": {}
        }
      ],
      "source": [
        "R = ReactionRate(logMtot, logStot, logItot,\n",
        "                 logKd, logK_S_M, logK_S_D, logK_S_DS, logK_I_M, logK_I_D, logK_I_DI, logK_S_DI,\n",
        "                 kcat_MS, kcat_DS, kcat_DSS, kcat_DSI)\n",
        "plt.plot(logItot, R, \".-\");"
      ]
    },
    {
      "cell_type": "code",
      "source": [
        "scaling_R = scaling_data(R, min(R), max(R))\n",
        "if np.argmax(R)==(len(R)-1):\n",
        "    index_max_R = np.argmax(R)\n",
        "    index_min_R = np.argmax(np.isclose(scaling_R, min(scaling_R)+1, rtol=1e-1))\n",
        "\n",
        "    conc_max_R = logItot[index_max_R]\n",
        "    conc_min_R = logItot[index_min_R]\n",
        "    logItot_2 = np.linspace(conc_min_R, conc_max_R, n_concs)\n",
        "\n",
        "elif np.argmax(R) == 0:\n",
        "    index_max_R = len(scaling_R) - np.argmax(np.isclose(max(scaling_R), np.flip(scaling_R), rtol=1e-1)) - 1\n",
        "    index_min_R = len(logItot) - np.argmax(np.isclose(np.flip(scaling_R), (np.max(scaling_R)/100*min_percentage), rtol=1e-1)) - 1\n",
        "    \n",
        "    conc_max_R = logItot[index_max_R]\n",
        "    conc_min_R = logItot[index_min_R]\n",
        "    logItot_2 = np.linspace(conc_max_R, conc_min_R, n_concs)\n",
        "\n",
        "else: \n",
        "    index_max_R = np.argmax(R)\n",
        "    search_range_R = R[index_max_R:]\n",
        "    index_min_R = len(logItot) - np.argmax(np.isclose(np.flip(search_range_R), np.max(scaling_R)/100*min_percentage, rtol=1e-1)) - 1\n",
        "    \n",
        "    conc_max_R = logItot[index_max_R]\n",
        "    conc_min_R = logItot[index_min_R]\n",
        "    logItot_2 = np.linspace(conc_max_R, conc_min_R, n_concs)"
      ],
      "metadata": {
        "id": "KLGBEU1HyiVn"
      },
      "execution_count": 26,
      "outputs": []
    },
    {
      "cell_type": "code",
      "source": [
        "R_2 = ReactionRate(logMtot, logStot, logItot_2,\n",
        "                   logKd, logK_S_M, logK_S_D, logK_S_DS, logK_I_M, logK_I_D, logK_I_DI, logK_S_DI,\n",
        "                   kcat_MS, kcat_DS, kcat_DSS, kcat_DSI)\n",
        "plt.plot(logItot, R, \".-\");\n",
        "plt.plot(logItot_2, R_2, \"--\");"
      ],
      "metadata": {
        "colab": {
          "base_uri": "https://localhost:8080/",
          "height": 445
        },
        "id": "diE4M63-p1rS",
        "outputId": "b07531c4-7690-4207-d424-6cdf28de27aa"
      },
      "execution_count": 27,
      "outputs": [
        {
          "output_type": "display_data",
          "data": {
            "text/plain": [
              "<Figure size 640x480 with 1 Axes>"
            ],
            "image/png": "[encoded data removed]"
          },
          "metadata": {}
        }
      ]
    },
    {
      "cell_type": "code",
      "source": [
        "data = {}\n",
        "data['x'] = logItot_2\n",
        "data['y'] = scaling_data(R_2, min(R_2), max(R_2))\n",
        "\n",
        "[theta, ASE, var] = parameter_estimation(data)\n",
        "[R_b, R_t, x50, H] = theta"
      ],
      "metadata": {
        "id": "sQarup0uqwPM"
      },
      "execution_count": 28,
      "outputs": []
    },
    {
      "cell_type": "code",
      "source": [
        "temp = np.linspace(min(data['x']), max(data['x']), 50)\n",
        "plt.plot(data['x'], data['y'], \".\")\n",
        "plt.plot(temp, f_curve_vec(temp, *theta), \"-\");\n",
        "print(H)"
      ],
      "metadata": {
        "colab": {
          "base_uri": "https://localhost:8080/",
          "height": 447
        },
        "id": "BIcGzOOEuZGu",
        "outputId": "d056cfe6-f0d4-4523-a8f9-bffcbff04f8c"
      },
      "execution_count": 29,
      "outputs": [
        {
          "output_type": "stream",
          "name": "stdout",
          "text": [
            "0.7339541824348136\n"
          ]
        },
        {
          "output_type": "display_data",
          "data": {
            "text/plain": [
              "<Figure size 640x480 with 1 Axes>"
            ],
            "image/png": "[encoded data removed]"
          },
          "metadata": {}
        }
      ]
    },
    {
      "cell_type": "markdown",
      "source": [
        "# Implementation"
      ],
      "metadata": {
        "id": "8JRzhSfdHjSk"
      }
    },
    {
      "cell_type": "markdown",
      "source": [
        "## Functions"
      ],
      "metadata": {
        "id": "ZCOzZPXzLMLF"
      }
    },
    {
      "cell_type": "code",
      "source": [
        "def return_logItot(init_logMtot, init_logStot, kinetics_params, \n",
        "                   n_concs = 12, min_conc=1E-12, max_conc=1E-3, min_percentage=10):\n",
        "    \"\"\"\n",
        "    Parameters:\n",
        "    ----------\n",
        "    init_logMtot    : float, values of enzyme concentration in log scale\n",
        "    init_logStot    : float, values of substrate concentration in log scale\n",
        "    kinetics_params : list, including 8 logK and 4 kcat variables\n",
        "    n_concs         : integer, number of concentrations for each scpecies\n",
        "    min_concs       : float, minimal concentration for inhibitor\n",
        "    max_concs       : float, maximal concentration for inhibitor\n",
        "    min_percentage  : integer\n",
        "        If you want inhibitor ranges from v_max to 0.1*v_max, then you set min_percentage=10\n",
        "    ----------\n",
        "    return array of concentrations for enzyme, substrate and inhibitor\n",
        "    \"\"\"\n",
        "    [logKd, logK_S_M, logK_S_D, logK_S_DS, logK_I_M, logK_I_D, logK_I_DI, logK_S_DI, kcat_MS, kcat_DS, kcat_DSS, kcat_DSI] = kinetics_params\n",
        "    # Generate the whole curve\n",
        "    min_conc = np.log(min_conc)\n",
        "    max_conc = np.log(max_conc)\n",
        "\n",
        "    n_points = 50\n",
        "    logMtot = np.ones(n_points)*init_logMtot \n",
        "    logStot = np.ones(n_points)*init_logStot \n",
        "    logItot = np.linspace(min_conc, max_conc, n_points)\n",
        "    R = ReactionRate(logMtot, logStot, logItot,\n",
        "                    logKd, logK_S_M, logK_S_D, logK_S_DS, logK_I_M, logK_I_D, logK_I_DI, logK_S_DI,\n",
        "                    kcat_MS, kcat_DS, kcat_DSS, kcat_DSI)\n",
        "    # scaling curve\n",
        "    scaling_R = scaling_data(R, min(R), max(R))\n",
        "    # Finding the min and max concs for the logItot\n",
        "    if np.argmax(R)==(len(R)-1):\n",
        "        index_max_R = np.argmax(R)\n",
        "        index_min_R = np.argmax(np.isclose(scaling_R, min(scaling_R)+1, rtol=1e-1))\n",
        "\n",
        "        conc_max_R = logItot[index_max_R]\n",
        "        conc_min_R = logItot[index_min_R]\n",
        "        logItot_final = np.linspace(conc_min_R, conc_max_R, n_concs)\n",
        "\n",
        "    elif np.argmax(R) == 0:\n",
        "        index_max_R = len(scaling_R) - np.argmax(np.isclose(max(scaling_R), np.flip(scaling_R), rtol=1e-1)) - 1\n",
        "        index_min_R = len(logItot) - np.argmax(np.isclose(np.flip(scaling_R), (np.max(scaling_R)/100*min_percentage), rtol=1e-1)) - 1\n",
        "        \n",
        "        conc_max_R = logItot[index_max_R]\n",
        "        conc_min_R = logItot[index_min_R]\n",
        "        logItot_final = np.linspace(conc_max_R, conc_min_R, n_concs)\n",
        "\n",
        "    else: \n",
        "        index_max_R = np.argmax(R)\n",
        "        search_range_R = R[index_max_R:]\n",
        "        index_min_R = len(logItot) - np.argmax(np.isclose(np.flip(search_range_R), np.max(scaling_R)/100*min_percentage, rtol=1e-1)) - 1\n",
        "        \n",
        "        conc_max_R = logItot[index_max_R]\n",
        "        conc_min_R = logItot[index_min_R]\n",
        "        logItot_final = np.linspace(conc_max_R, conc_min_R, n_concs)\n",
        "\n",
        "    logMtot_final = np.ones(n_concs)*init_logMtot \n",
        "    logStot_final = np.ones(n_concs)*init_logStot\n",
        "    return logMtot_final, logStot_final, logItot_final"
      ],
      "metadata": {
        "id": "VeSIUxl0LLiF"
      },
      "execution_count": 8,
      "outputs": []
    },
    {
      "cell_type": "markdown",
      "source": [
        "## Example"
      ],
      "metadata": {
        "id": "WL8laeb1Hus6"
      }
    },
    {
      "cell_type": "code",
      "source": [
        "logKd = -0.005 # Dimerization\n",
        "# Substrate binding\n",
        "logK_S_DS = -13.853\n",
        "logK_S_M = -6.015\n",
        "logK_S_D = -9.312\n",
        "# Inhibitor binding\n",
        "logK_I_M = 0\n",
        "logK_I_D = -17.669\n",
        "logK_I_DI = -18.141\n",
        "# Binding of substrate and inhibitor\n",
        "logK_S_DI = -13.967\n",
        "\n",
        "kcat_MS = 0\n",
        "kcat_DS = 0\n",
        "kcat_DSI = 0.45\n",
        "kcat_DSS = 0.38\n",
        "\n",
        "init_logMtot = np.log(1E-6) # Notice the unit is log scale\n",
        "init_logStot = np.log(1E-6) # Notice the unit is log scale\n",
        "\n",
        "params = [logKd, logK_S_M, logK_S_D, logK_S_DS, logK_I_M, logK_I_D, logK_I_DI, logK_S_DI, kcat_MS, kcat_DS, kcat_DSS, kcat_DSI]"
      ],
      "metadata": {
        "id": "eYxQmNA_Hus6"
      },
      "execution_count": 9,
      "outputs": []
    },
    {
      "cell_type": "code",
      "source": [
        "logMtot = np.array([np.log(10E-6)]*50) \n",
        "logStot = np.array([np.log(0.25E-3)]*50) \n",
        "logItot = np.linspace(np.log(1E-9), np.log(1E-3), 50)\n",
        "\n",
        "R = ReactionRate(logMtot, logStot, logItot,\n",
        "                 logKd, logK_S_M, logK_S_D, logK_S_DS, logK_I_M, logK_I_D, logK_I_DI, logK_S_DI,\n",
        "                 kcat_MS, kcat_DS, kcat_DSS, kcat_DSI)\n",
        "plt.plot(logItot, R, \".-\");"
      ],
      "metadata": {
        "colab": {
          "base_uri": "https://localhost:8080/",
          "height": 445
        },
        "id": "x74rJWiONFTJ",
        "outputId": "8b9fbc3a-9b7c-43ce-fdba-e841f4bdad89"
      },
      "execution_count": 13,
      "outputs": [
        {
          "output_type": "display_data",
          "data": {
            "text/plain": [
              "<Figure size 640x480 with 1 Axes>"
            ],
            "image/png": "[encoded data removed]"
          },
          "metadata": {}
        }
      ]
    },
    {
      "cell_type": "code",
      "source": [
        "[logMtot, logStot, logItot] = return_logItot(init_logMtot, init_logStot, params)\n",
        "v_observed = ReactionRate(logMtot, logStot, logItot,\n",
        "                          logKd, logK_S_M, logK_S_D, logK_S_DS, logK_I_M, logK_I_D, logK_I_DI, logK_S_DI,\n",
        "                          kcat_MS, kcat_DS, kcat_DSS, kcat_DSI)\n",
        "# Create data for CRC fitting\n",
        "data = {}\n",
        "data['x'] = logItot\n",
        "data['y'] = scaling_data(v_observed, min(v_observed), max(v_observed))\n",
        "# CRC fitting\n",
        "[theta, ASE, var] = parameter_estimation(data)\n",
        "[R_b, R_t, x50, H] = theta\n",
        "# Plotting\n",
        "temp = np.linspace(min(data['x']), max(data['x']), 50)\n",
        "plt.plot(data['x'], data['y'], \".\")\n",
        "plt.plot(temp, f_curve_vec(temp, *theta), \"-\");\n",
        "print(H)"
      ],
      "metadata": {
        "colab": {
          "base_uri": "https://localhost:8080/",
          "height": 447
        },
        "id": "VhmVK4BXJ4X9",
        "outputId": "262c1c16-e7d6-4acd-c72d-b02278cdd172"
      },
      "execution_count": 14,
      "outputs": [
        {
          "output_type": "stream",
          "name": "stdout",
          "text": [
            "0.6253765420034308\n"
          ]
        },
        {
          "output_type": "display_data",
          "data": {
            "text/plain": [
              "<Figure size 640x480 with 1 Axes>"
            ],
            "image/png": "[encoded data removed]"
          },
          "metadata": {}
        }
      ]
    },
    {
      "cell_type": "markdown",
      "metadata": {
        "id": "nEPisPVqPjUS"
      },
      "source": [
        "# Save HTML"
      ]
    },
    {
      "cell_type": "code",
      "execution_count": 17,
      "metadata": {
        "id": "9PzeWZ_AUlF9",
        "colab": {
          "base_uri": "https://localhost:8080/"
        },
        "outputId": "95b935f2-1bf5-4e6a-a51a-930642daf514"
      },
      "outputs": [
        {
          "output_type": "stream",
          "name": "stdout",
          "text": [
            "[NbConvertApp] Converting notebook /content/drive/My Drive/MoonShot/dimer/20230410_Finding_lotItot.ipynb to html\n",
            "[NbConvertApp] Writing 991742 bytes to /content/drive/My Drive/MoonShot/dimer/20230410_Finding_lotItot.html\n"
          ]
        }
      ],
      "source": [
        "!jupyter nbconvert --to html \"/content/drive/My Drive/MoonShot/dimer/20230410_Finding_lotItot.ipynb\""
      ]
    }
  ],
  "metadata": {
    "colab": {
      "provenance": [],
      "collapsed_sections": [
        "ColIN1gJlTRL",
        "nbXR2sG3gzyo",
        "q9hypiOzn0PD",
        "ZiY1aprnn2f6"
      ]
    },
    "kernelspec": {
      "display_name": "Python 3",
      "name": "python3"
    },
    "language_info": {
      "name": "python"
    }
  },
  "nbformat": 4,
  "nbformat_minor": 0
}